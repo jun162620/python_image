{
 "cells": [
  {
   "cell_type": "markdown",
   "metadata": {},
   "source": [
    "# ImageNet\n",
    "\n",
    "ImageNetは画像認識用データセットです。\n",
    "\n",
    "+ 1,400万枚超の画像\n",
    "+ 画像に写っている物体名(クラス名)を付与\n",
    "+ 物体名(クラス名)は2万種類超"
   ]
  },
  {
   "cell_type": "markdown",
   "metadata": {},
   "source": [
    "# 転移学習\n",
    "\n",
    "ファインチューニング(fine tuning)とも呼ばれ、既存のモデルの一部を再利用して、新しいモデルを構築する手法。\n",
    "\n",
    "Kerasが所有する学習済みモデルは、全てがImageNetを学習用データセットとして使用しています。\n",
    "\n",
    "|モデル名|学習データ|Default入力ベクトルサイズ|ライセンス|\n",
    "|:---|:---|:---|:---|\n",
    "|Xception|ImageNet|299×29|MIT|\n",
    "|VGG16|ImageNet|224×224|CC|\n",
    "|VGG19|ImageNet|224×224|CC|\n",
    "|ResNet50|ImageNet|224×224|MIT|\n",
    "|InceptionV3|ImageNet|299×299|Apache|\n",
    "|InceptionResNetV2|ImageNet|299×299|Apache|\n",
    "|MobileNet|ImageNet|224×224|Apache|\n",
    "|DenseNet|ImageNet|224×224|三条項BSD|\n",
    "|NASNetLarge|ImageNet|331×331|Apache|\n",
    "|NASNetMobile|ImageNet|224×224|Apache|\n",
    "|MobileNetV2|ImageNet|224×224|Apache|\n",
    "\n",
    "がある。\n",
    "\n",
    "参照：https://keras.io/ja/applications/"
   ]
  },
  {
   "cell_type": "markdown",
   "metadata": {},
   "source": [
    "### ResNet50を使用した推論サンプル\n",
    "\n",
    "<img src=\"./data/elephant.jpg\" style=\"position:relative;left:-40%;\">"
   ]
  },
  {
   "cell_type": "code",
   "execution_count": 2,
   "metadata": {
    "collapsed": true
   },
   "outputs": [
    {
     "name": "stdout",
     "output_type": "stream",
     "text": [
      "[('n02504458', 'African_elephant', 0.7703732), ('n01871265', 'tusker', 0.19408885), ('n02504013', 'Indian_elephant', 0.035537306)]\n"
     ]
    }
   ],
   "source": [
    "#  ResNet50学習済みモデルを読み込む\n",
    "from keras.applications.resnet50 import ResNet50\n",
    "model = ResNet50(weights='imagenet')\n",
    "\n",
    "# 画像データを読み込む\n",
    "from keras.preprocessing import image\n",
    "img_path = './data/elephant.jpg'\n",
    "img = image.load_img(img_path, target_size=(224, 224))\n",
    "x = image.img_to_array(img) # 配列化\n",
    "import numpy as np\n",
    "x = np.expand_dims(x, axis=0) # CNN用に拡張する(224,224,3) ==>> (1,224,224,3)\n",
    "\n",
    "# 画像の正規化などを自動的に行ってくれる\n",
    "from keras.applications.resnet50 import preprocess_input\n",
    "x = preprocess_input(x)\n",
    "\n",
    "# 予測値の算出\n",
    "prediction = model.predict(x)\n",
    "\n",
    "# 予測値からクラス名を呼び出す\n",
    "from keras.applications.resnet50 import decode_predictions\n",
    "class_acc = decode_predictions(prediction, top=3)[0]\n",
    "print(class_acc)"
   ]
  },
  {
   "cell_type": "markdown",
   "metadata": {},
   "source": [
    "### VGG16を使用した推論サンプル"
   ]
  },
  {
   "cell_type": "code",
   "execution_count": 3,
   "metadata": {
    "collapsed": true
   },
   "outputs": [
    {
     "name": "stdout",
     "output_type": "stream",
     "text": [
      "[('n01871265', 'tusker', 0.6817723), ('n02504458', 'African_elephant', 0.3063876), ('n02504013', 'Indian_elephant', 0.011840123)]\n"
     ]
    }
   ],
   "source": [
    "#  VGG16学習済みモデルを読み込む\n",
    "from keras.applications.vgg16 import VGG16\n",
    "model = VGG16(weights='imagenet')\n",
    "\n",
    "# 画像データを読み込む\n",
    "from keras.preprocessing import image\n",
    "img_path = './data/elephant.jpg'\n",
    "img = image.load_img(img_path, target_size=(224, 224))\n",
    "x = image.img_to_array(img) # 配列化\n",
    "import numpy as np\n",
    "x = np.expand_dims(x, axis=0) # CNN用に拡張する(224,224,3) ==>> (1,224,224,3)\n",
    "\n",
    "# 画像の正規化などを自動的に行ってくれる\n",
    "from keras.applications.vgg16 import preprocess_input\n",
    "x = preprocess_input(x)\n",
    "\n",
    "# 予測値の算出\n",
    "prediction = model.predict(x)\n",
    "\n",
    "# 予測値からクラス名を呼び出す\n",
    "from keras.applications.vgg16 import decode_predictions\n",
    "class_acc = decode_predictions(prediction, top=3)[0]\n",
    "print(class_acc)"
   ]
  },
  {
   "cell_type": "markdown",
   "metadata": {},
   "source": [
    "### ResNet50を使用した推論サンプル\n",
    "\n",
    "入力ベクトル変更ばバージョン\n",
    "\n",
    "<img src=\"./data/elephant_640_480.jpg\" style=\"position:relative;left:-20%;\">"
   ]
  },
  {
   "cell_type": "code",
   "execution_count": 4,
   "metadata": {
    "collapsed": true
   },
   "outputs": [
    {
     "name": "stdout",
     "output_type": "stream",
     "text": [
      "[('n02504458', 'African_elephant', 0.62510407), ('n01871265', 'tusker', 0.17816585), ('n02504013', 'Indian_elephant', 0.097056195)]\n"
     ]
    }
   ],
   "source": [
    "# 入力ベクトルの定義\n",
    "from keras.layers import Input\n",
    "input_tensor = Input(shape=(640, 480, 3)) \n",
    "\n",
    "#  ResNet50学習済みモデルを読み込む\n",
    "from keras.applications.resnet50 import ResNet50\n",
    "model = ResNet50(input_tensor=input_tensor,weights='imagenet')\n",
    "\n",
    "# 画像データを読み込む\n",
    "from keras.preprocessing import image\n",
    "img_path = './data/elephant_640_480.jpg'\n",
    "img = image.load_img(img_path, target_size=(640, 480))\n",
    "x = image.img_to_array(img) # 配列化\n",
    "import numpy as np\n",
    "x = np.expand_dims(x, axis=0) # CNN用に拡張する(640,480,3) ==>> (1,640,480,3)\n",
    "\n",
    "# 画像の正規化などを自動的に行ってくれる\n",
    "from keras.applications.resnet50 import preprocess_input\n",
    "x = preprocess_input(x)\n",
    "\n",
    "# 予測値の算出\n",
    "prediction = model.predict(x)\n",
    "\n",
    "# 予測値からクラス名を呼び出す\n",
    "from keras.applications.resnet50 import decode_predictions\n",
    "class_acc = decode_predictions(prediction, top=3)[0]\n",
    "print(class_acc)"
   ]
  }
 ],
 "metadata": {
  "kernelspec": {
   "display_name": "Python 3",
   "language": "python",
   "name": "python3"
  },
  "language_info": {
   "codemirror_mode": {
    "name": "ipython",
    "version": 3
   },
   "file_extension": ".py",
   "mimetype": "text/x-python",
   "name": "python",
   "nbconvert_exporter": "python",
   "pygments_lexer": "ipython3",
   "version": "3.6.8"
  }
 },
 "nbformat": 4,
 "nbformat_minor": 2
}
