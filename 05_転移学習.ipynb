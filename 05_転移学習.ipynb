{
 "cells": [
  {
   "cell_type": "markdown",
   "metadata": {},
   "source": [
    "# 転移学習とファインチューニング\n",
    "\n",
    "kerasには、すでに学習が済んでいる大規模なニューラルネットワークモデルを流用することができます。\n",
    "\n",
    "\n",
    "+ **fine tuning**：学習済みモデルの重みを初期値にして、重みのみ再学習する\n",
    "+ **転移学習**：学習済みモデルに、層を追加して、その層について学習する"
   ]
  },
  {
   "cell_type": "code",
   "execution_count": 1,
   "metadata": {
    "collapsed": true
   },
   "outputs": [
    {
     "name": "stderr",
     "output_type": "stream",
     "text": [
      "Using TensorFlow backend.\n"
     ]
    },
    {
     "name": "stdout",
     "output_type": "stream",
     "text": [
      "(50000, 32, 32, 3) (50000, 1) (10000, 32, 32, 3) (10000, 1)\n"
     ]
    },
    {
     "data": {
      "text/plain": [
       "<matplotlib.image.AxesImage at 0x214b9658898>"
      ]
     },
     "execution_count": 1,
     "metadata": {},
     "output_type": "execute_result"
    },
    {
     "data": {
      "image/png": "[encoded data removed]",
      "text/plain": [
       "<Figure size 432x288 with 1 Axes>"
      ]
     },
     "metadata": {
      "needs_background": "light"
     },
     "output_type": "display_data"
    }
   ],
   "source": [
    "import keras\n",
    "from keras.datasets import cifar10\n",
    "(X_train, y_train), (X_test, y_test) = cifar10.load_data()\n",
    "\n",
    "# データの形式\n",
    "print(\n",
    "    X_train.shape,\n",
    "    y_train.shape,\n",
    "    X_test.shape,\n",
    "    y_test.shape\n",
    ")\n",
    "\n",
    "import matplotlib.pyplot as plt\n",
    "%matplotlib inline\n",
    "plt.imshow(X_train[0])"
   ]
  },
  {
   "cell_type": "code",
   "execution_count": 2,
   "metadata": {
    "collapsed": true
   },
   "outputs": [],
   "source": [
    "# ベクトルからone hotに変換する\n",
    "y_train = keras.utils.to_categorical(y_train,10)\n",
    "y_test = keras.utils.to_categorical(y_test,10)"
   ]
  },
  {
   "cell_type": "markdown",
   "metadata": {},
   "source": [
    "## 転移学習\n",
    "\n",
    "学習済みモデルを前半に配置して、その後ろに全結合層を配置させます。\n",
    "\n",
    "全結合層のみ学習させます。"
   ]
  },
  {
   "cell_type": "code",
   "execution_count": 5,
   "metadata": {
    "collapsed": true
   },
   "outputs": [
    {
     "name": "stdout",
     "output_type": "stream",
     "text": [
      "Epoch 1/30\n",
      "50000/50000 [==============================] - 8s 163us/step - loss: 2.4685 - accuracy: 0.1043\n",
      "Epoch 2/30\n",
      "50000/50000 [==============================] - 7s 145us/step - loss: 2.3007 - accuracy: 0.1095\n",
      "Epoch 3/30\n",
      "50000/50000 [==============================] - 7s 145us/step - loss: 2.2907 - accuracy: 0.1328\n",
      "Epoch 4/30\n",
      "50000/50000 [==============================] - 7s 144us/step - loss: 2.0447 - accuracy: 0.2739\n",
      "Epoch 5/30\n",
      "50000/50000 [==============================] - 7s 143us/step - loss: 1.5968 - accuracy: 0.4766\n",
      "Epoch 6/30\n",
      "50000/50000 [==============================] - 7s 149us/step - loss: 1.2245 - accuracy: 0.5835\n",
      "Epoch 7/30\n",
      "50000/50000 [==============================] - 8s 151us/step - loss: 1.0099 - accuracy: 0.6600\n",
      "Epoch 8/30\n",
      "50000/50000 [==============================] - 7s 149us/step - loss: 0.8983 - accuracy: 0.7040\n",
      "Epoch 9/30\n",
      "50000/50000 [==============================] - 7s 147us/step - loss: 0.8253 - accuracy: 0.7262\n",
      "Epoch 10/30\n",
      "50000/50000 [==============================] - 7s 143us/step - loss: 0.7630 - accuracy: 0.7441\n",
      "Epoch 11/30\n",
      "50000/50000 [==============================] - 7s 145us/step - loss: 0.7093 - accuracy: 0.7647\n",
      "Epoch 12/30\n",
      "50000/50000 [==============================] - 7s 148us/step - loss: 0.6498 - accuracy: 0.7824\n",
      "Epoch 13/30\n",
      "50000/50000 [==============================] - 7s 148us/step - loss: 0.6228 - accuracy: 0.7918\n",
      "Epoch 14/30\n",
      "50000/50000 [==============================] - 7s 149us/step - loss: 0.5693 - accuracy: 0.8090\n",
      "Epoch 15/30\n",
      "50000/50000 [==============================] - 7s 148us/step - loss: 0.5244 - accuracy: 0.8241\n",
      "Epoch 16/30\n",
      "50000/50000 [==============================] - 7s 149us/step - loss: 0.4934 - accuracy: 0.8335\n",
      "Epoch 17/30\n",
      "50000/50000 [==============================] - 7s 149us/step - loss: 0.4490 - accuracy: 0.8485\n",
      "Epoch 18/30\n",
      "50000/50000 [==============================] - 8s 151us/step - loss: 0.4054 - accuracy: 0.8642\n",
      "Epoch 19/30\n",
      "50000/50000 [==============================] - 8s 150us/step - loss: 0.3729 - accuracy: 0.8748\n",
      "Epoch 20/30\n",
      "50000/50000 [==============================] - 8s 150us/step - loss: 0.3432 - accuracy: 0.8872\n",
      "Epoch 21/30\n",
      "50000/50000 [==============================] - 8s 154us/step - loss: 0.3032 - accuracy: 0.8994\n",
      "Epoch 22/30\n",
      "50000/50000 [==============================] - 8s 150us/step - loss: 0.2722 - accuracy: 0.9104\n",
      "Epoch 23/30\n",
      "50000/50000 [==============================] - 8s 151us/step - loss: 0.2395 - accuracy: 0.9222\n",
      "Epoch 24/30\n",
      "50000/50000 [==============================] - 8s 151us/step - loss: 0.1879 - accuracy: 0.9399\n",
      "Epoch 25/30\n",
      "50000/50000 [==============================] - 8s 150us/step - loss: 0.1614 - accuracy: 0.9481\n",
      "Epoch 26/30\n",
      "50000/50000 [==============================] - 8s 150us/step - loss: 0.1871 - accuracy: 0.9442\n",
      "Epoch 27/30\n",
      "50000/50000 [==============================] - 8s 152us/step - loss: 0.1532 - accuracy: 0.9557\n",
      "Epoch 28/30\n",
      "50000/50000 [==============================] - 8s 152us/step - loss: 0.1523 - accuracy: 0.9563\n",
      "Epoch 29/30\n",
      "50000/50000 [==============================] - 8s 151us/step - loss: 0.0669 - accuracy: 0.9814\n",
      "Epoch 30/30\n",
      "50000/50000 [==============================] - 8s 151us/step - loss: 0.1365 - accuracy: 0.9605\n"
     ]
    }
   ],
   "source": [
    "#  VGG16学習済みモデルを読み込む\n",
    "from keras.applications.vgg16 import VGG16\n",
    "# ニューラルネット関係のライブラリ読み込み\n",
    "from keras.models import Sequential\n",
    "from keras.layers import Dense, Dropout, Flatten\n",
    "from keras import optimizers\n",
    "from keras import losses\n",
    "from keras import models\n",
    "from keras import layers\n",
    "\n",
    "# VGG16モデル\n",
    "img_rows = 32\n",
    "img_cols = 32\n",
    "input_tensor = layers.Input(shape=(img_rows, img_cols, 3))\n",
    "vgg16 = VGG16(\n",
    "    include_top=False,      # ネットワークの出力層側にある3つの全結合層を含むかどうか\n",
    "    weights='imagenet',      # None(ランダム初期化) 'imagenet'(ImageNetで学習した重み) \n",
    "    input_tensor=input_tensor# 入力層の形式\n",
    ")\n",
    "\n",
    "# 全結合層は自己学習モデル\n",
    "model_ = Sequential()\n",
    "model_.add(Flatten(input_shape=vgg16.output_shape[1:]))\n",
    "model_.add(Dense(256, activation='relu'))\n",
    "model_.add(Dropout(0.1))\n",
    "model_.add(Dense(256, activation='relu'))\n",
    "model_.add(Dropout(0.1))\n",
    "model_.add(Dense(256, activation='relu'))\n",
    "model_.add(Dropout(0.1))\n",
    "model_.add(Dense(10, activation='softmax'))\n",
    "\n",
    "# VGG16モデルと自己学習モデルの結合\n",
    "model = models.Model(inputs=vgg16.input, outputs=model_(vgg16.output))\n",
    "\n",
    "# modelの14層目までのモデル重みは学習させない\n",
    "for layer in model.layers[:15]:\n",
    "    layer.trainable = False\n",
    "\n",
    "# モデルの学習設定\n",
    "model.compile(\n",
    "    loss=losses.categorical_crossentropy,\n",
    "    optimizer=optimizers.SGD(lr=0.01),\n",
    "    metrics=['accuracy']\n",
    ")\n",
    "\n",
    "# モデルの学習\n",
    "result = model.fit(\n",
    "    X_train,\n",
    "    y_train,\n",
    "    batch_size=512,\n",
    "    epochs=30,\n",
    ")"
   ]
  },
  {
   "cell_type": "code",
   "execution_count": 8,
   "metadata": {
    "collapsed": true
   },
   "outputs": [],
   "source": [
    "# モデルの保存\n",
    "model.save('./model/model_cnn.h5')"
   ]
  },
  {
   "cell_type": "code",
   "execution_count": 6,
   "metadata": {
    "collapsed": true
   },
   "outputs": [],
   "source": [
    "# テストデータへの適用\n",
    "import numpy as np\n",
    "y_predict = np.argmax(model.predict(X_test),axis=1)"
   ]
  },
  {
   "cell_type": "code",
   "execution_count": 7,
   "metadata": {
    "collapsed": true
   },
   "outputs": [
    {
     "name": "stdout",
     "output_type": "stream",
     "text": [
      "0.7585\n"
     ]
    }
   ],
   "source": [
    "# 正答率の算出\n",
    "y_test = np.argmax(y_test,axis=1)\n",
    "acc=np.sum(y_test==y_predict)/len(y_test)\n",
    "print(acc)"
   ]
  },
  {
   "cell_type": "markdown",
   "metadata": {},
   "source": [
    "# 転移学習を行わなかった場合"
   ]
  },
  {
   "cell_type": "code",
   "execution_count": 3,
   "metadata": {
    "collapsed": true
   },
   "outputs": [],
   "source": [
    "# データ読み込み\n",
    "from keras.datasets import cifar10\n",
    "(X_train, y_train), (X_test, y_test) = cifar10.load_data()\n",
    "\n",
    "# ベクトルからone hotに変換する\n",
    "y_train = keras.utils.to_categorical(y_train,10)\n",
    "y_test = keras.utils.to_categorical(y_test,10)"
   ]
  },
  {
   "cell_type": "code",
   "execution_count": 5,
   "metadata": {
    "collapsed": true
   },
   "outputs": [],
   "source": [
    "from keras.models import Sequential\n",
    "from keras.layers import Dense, Dropout, Flatten, Conv2D, MaxPooling2D, ReLU, Softmax\n",
    "from keras import optimizers\n",
    "from keras import losses\n",
    "\n",
    "# 基本モデル作成\n",
    "model = Sequential()\n",
    "\n",
    "# 3×3の畳み込み層の追加\n",
    "model.add(\n",
    "    Conv2D(\n",
    "        filters=32,\n",
    "        kernel_size=(3, 3),\n",
    "        activation=ReLU(),\n",
    "    )\n",
    ")\n",
    "\n",
    "# 2×2のmaxプーリング層追加\n",
    "model.add(\n",
    "    MaxPooling2D(\n",
    "        pool_size=(2, 2)\n",
    "    )\n",
    ")\n",
    "\n",
    "# ドロップアウト層の追加\n",
    "model.add(\n",
    "    Dropout(0.2)\n",
    ")\n",
    "\n",
    "# フラット層の追加\n",
    "model.add(\n",
    "    Flatten()\n",
    ")\n",
    "\n",
    "# 全結合層の追加\n",
    "model.add(\n",
    "    Dense(\n",
    "        128, \n",
    "        activation=ReLU()\n",
    "    )\n",
    ")\n",
    "\n",
    "# ドロップアウト層の追加\n",
    "model.add(\n",
    "    Dropout(0.2)\n",
    ")\n",
    "\n",
    "# 出力層\n",
    "model.add(\n",
    "    Dense(\n",
    "        10, \n",
    "        activation=Softmax()\n",
    "    )\n",
    ")"
   ]
  },
  {
   "cell_type": "code",
   "execution_count": 7,
   "metadata": {
    "collapsed": true
   },
   "outputs": [],
   "source": [
    "# モデルの学習設定\n",
    "model.compile(\n",
    "    loss=losses.categorical_crossentropy,\n",
    "    optimizer=optimizers.SGD(lr=0.01),\n",
    "    metrics=['accuracy']\n",
    ")"
   ]
  },
  {
   "cell_type": "code",
   "execution_count": 9,
   "metadata": {
    "collapsed": true
   },
   "outputs": [
    {
     "name": "stdout",
     "output_type": "stream",
     "text": [
      "Epoch 1/100\n",
      "50000/50000 [==============================] - 2s 39us/step - loss: 14.5063 - accuracy: 0.1000\n",
      "Epoch 2/100\n",
      "50000/50000 [==============================] - 2s 38us/step - loss: 14.5063 - accuracy: 0.1000\n",
      "Epoch 3/100\n",
      "50000/50000 [==============================] - 2s 38us/step - loss: 14.5063 - accuracy: 0.1000\n",
      "Epoch 4/100\n",
      "50000/50000 [==============================] - 2s 39us/step - loss: 14.5063 - accuracy: 0.1000\n",
      "Epoch 5/100\n",
      "50000/50000 [==============================] - 2s 39us/step - loss: 14.5063 - accuracy: 0.1000\n",
      "Epoch 6/100\n",
      "50000/50000 [==============================] - 2s 39us/step - loss: 14.5063 - accuracy: 0.1000\n",
      "Epoch 7/100\n",
      "50000/50000 [==============================] - 2s 39us/step - loss: 14.5063 - accuracy: 0.1000\n",
      "Epoch 8/100\n",
      "50000/50000 [==============================] - 2s 39us/step - loss: 14.5063 - accuracy: 0.1000: 1s - loss: 1\n",
      "Epoch 9/100\n",
      "50000/50000 [==============================] - 2s 39us/step - loss: 14.5060 - accuracy: 0.1000\n",
      "Epoch 10/100\n",
      "50000/50000 [==============================] - 2s 39us/step - loss: 14.5063 - accuracy: 0.1000\n",
      "Epoch 11/100\n",
      "50000/50000 [==============================] - 2s 39us/step - loss: 14.5063 - accuracy: 0.1000\n",
      "Epoch 12/100\n",
      "50000/50000 [==============================] - 2s 38us/step - loss: 14.5063 - accuracy: 0.1000\n",
      "Epoch 13/100\n",
      "50000/50000 [==============================] - 2s 38us/step - loss: 14.5047 - accuracy: 0.1001\n",
      "Epoch 14/100\n",
      "50000/50000 [==============================] - 2s 39us/step - loss: 14.4958 - accuracy: 0.1006\n",
      "Epoch 15/100\n",
      "50000/50000 [==============================] - 2s 38us/step - loss: 14.4677 - accuracy: 0.1022\n",
      "Epoch 16/100\n",
      "50000/50000 [==============================] - 2s 38us/step - loss: 14.2059 - accuracy: 0.1182\n",
      "Epoch 17/100\n",
      "50000/50000 [==============================] - 2s 38us/step - loss: 14.1089 - accuracy: 0.1242\n",
      "Epoch 18/100\n",
      "50000/50000 [==============================] - 2s 38us/step - loss: 13.7593 - accuracy: 0.1460\n",
      "Epoch 19/100\n",
      "50000/50000 [==============================] - 2s 38us/step - loss: 14.0478 - accuracy: 0.1283\n",
      "Epoch 20/100\n",
      "50000/50000 [==============================] - 2s 39us/step - loss: 13.7063 - accuracy: 0.1494\n",
      "Epoch 21/100\n",
      "50000/50000 [==============================] - 2s 39us/step - loss: 13.6017 - accuracy: 0.1558\n",
      "Epoch 22/100\n",
      "50000/50000 [==============================] - 2s 39us/step - loss: 13.7079 - accuracy: 0.1493\n",
      "Epoch 23/100\n",
      "50000/50000 [==============================] - 2s 39us/step - loss: 13.7043 - accuracy: 0.1494\n",
      "Epoch 24/100\n",
      "50000/50000 [==============================] - 2s 39us/step - loss: 13.6461 - accuracy: 0.1532\n",
      "Epoch 25/100\n",
      "50000/50000 [==============================] - 2s 38us/step - loss: 14.3334 - accuracy: 0.1107\n",
      "Epoch 26/100\n",
      "50000/50000 [==============================] - 2s 37us/step - loss: 14.1788 - accuracy: 0.1202\n",
      "Epoch 27/100\n",
      "50000/50000 [==============================] - 2s 38us/step - loss: 13.7856 - accuracy: 0.1446\n",
      "Epoch 28/100\n",
      "50000/50000 [==============================] - 2s 37us/step - loss: 13.7013 - accuracy: 0.1498\n",
      "Epoch 29/100\n",
      "50000/50000 [==============================] - 2s 37us/step - loss: 13.7600 - accuracy: 0.1461\n",
      "Epoch 30/100\n",
      "50000/50000 [==============================] - 2s 37us/step - loss: 13.6802 - accuracy: 0.1511\n",
      "Epoch 31/100\n",
      "50000/50000 [==============================] - 2s 37us/step - loss: 13.8910 - accuracy: 0.1381\n",
      "Epoch 32/100\n",
      "50000/50000 [==============================] - 2s 38us/step - loss: 13.9241 - accuracy: 0.1360\n",
      "Epoch 33/100\n",
      "50000/50000 [==============================] - 2s 37us/step - loss: 13.8420 - accuracy: 0.1411\n",
      "Epoch 34/100\n",
      "50000/50000 [==============================] - 2s 37us/step - loss: 14.1659 - accuracy: 0.1211\n",
      "Epoch 35/100\n",
      "50000/50000 [==============================] - 2s 38us/step - loss: 13.8402 - accuracy: 0.1413\n",
      "Epoch 36/100\n",
      "50000/50000 [==============================] - 2s 37us/step - loss: 13.9109 - accuracy: 0.1368\n",
      "Epoch 37/100\n",
      "50000/50000 [==============================] - 2s 37us/step - loss: 13.7319 - accuracy: 0.1480\n",
      "Epoch 38/100\n",
      "50000/50000 [==============================] - 2s 38us/step - loss: 13.7588 - accuracy: 0.1461\n",
      "Epoch 39/100\n",
      "50000/50000 [==============================] - 2s 37us/step - loss: 14.2317 - accuracy: 0.1169\n",
      "Epoch 40/100\n",
      "50000/50000 [==============================] - 2s 38us/step - loss: 14.4887 - accuracy: 0.1011\n",
      "Epoch 41/100\n",
      "50000/50000 [==============================] - 2s 37us/step - loss: 14.4872 - accuracy: 0.1011\n",
      "Epoch 42/100\n",
      "50000/50000 [==============================] - 2s 37us/step - loss: 14.3486 - accuracy: 0.1097\n",
      "Epoch 43/100\n",
      "50000/50000 [==============================] - 2s 38us/step - loss: 14.4938 - accuracy: 0.1008\n",
      "Epoch 44/100\n",
      "50000/50000 [==============================] - 2s 38us/step - loss: 14.5005 - accuracy: 0.1004\n",
      "Epoch 45/100\n",
      "50000/50000 [==============================] - 2s 37us/step - loss: 14.4960 - accuracy: 0.1006\n",
      "Epoch 46/100\n",
      "50000/50000 [==============================] - 2s 38us/step - loss: 14.4836 - accuracy: 0.1014\n",
      "Epoch 47/100\n",
      "50000/50000 [==============================] - 2s 37us/step - loss: 14.3598 - accuracy: 0.1090\n",
      "Epoch 48/100\n",
      "50000/50000 [==============================] - 2s 37us/step - loss: 13.8153 - accuracy: 0.1428\n",
      "Epoch 49/100\n",
      "50000/50000 [==============================] - 2s 38us/step - loss: 14.2655 - accuracy: 0.1149\n",
      "Epoch 50/100\n",
      "50000/50000 [==============================] - 2s 37us/step - loss: 14.0091 - accuracy: 0.1308\n",
      "Epoch 51/100\n",
      "50000/50000 [==============================] - 2s 37us/step - loss: 14.3254 - accuracy: 0.1112\n",
      "Epoch 52/100\n",
      "50000/50000 [==============================] - 2s 37us/step - loss: 14.4644 - accuracy: 0.1026\n",
      "Epoch 53/100\n",
      "50000/50000 [==============================] - 2s 37us/step - loss: 14.4631 - accuracy: 0.1027\n",
      "Epoch 54/100\n",
      "50000/50000 [==============================] - 2s 37us/step - loss: 14.4637 - accuracy: 0.1026\n",
      "Epoch 55/100\n",
      "50000/50000 [==============================] - 2s 38us/step - loss: 14.4660 - accuracy: 0.1025\n",
      "Epoch 56/100\n",
      "50000/50000 [==============================] - 2s 38us/step - loss: 14.4705 - accuracy: 0.1022: 0s - loss: 14.4674 - a\n",
      "Epoch 57/100\n",
      "50000/50000 [==============================] - 2s 38us/step - loss: 14.3801 - accuracy: 0.1078\n",
      "Epoch 58/100\n",
      "50000/50000 [==============================] - 2s 37us/step - loss: 14.4402 - accuracy: 0.1041\n",
      "Epoch 59/100\n",
      "50000/50000 [==============================] - 2s 38us/step - loss: 14.4299 - accuracy: 0.1047\n",
      "Epoch 60/100\n",
      "50000/50000 [==============================] - 2s 38us/step - loss: 14.4331 - accuracy: 0.1045\n",
      "Epoch 61/100\n",
      "50000/50000 [==============================] - 2s 38us/step - loss: 14.3978 - accuracy: 0.1067\n",
      "Epoch 62/100\n",
      "50000/50000 [==============================] - 2s 38us/step - loss: 14.3466 - accuracy: 0.1099\n",
      "Epoch 63/100\n",
      "50000/50000 [==============================] - 2s 38us/step - loss: 14.2033 - accuracy: 0.1188\n",
      "Epoch 64/100\n",
      "50000/50000 [==============================] - 2s 37us/step - loss: 14.2550 - accuracy: 0.1156\n",
      "Epoch 65/100\n",
      "50000/50000 [==============================] - 2s 38us/step - loss: 13.7907 - accuracy: 0.1444\n",
      "Epoch 66/100\n",
      "50000/50000 [==============================] - 2s 38us/step - loss: 13.8947 - accuracy: 0.1379\n",
      "Epoch 67/100\n",
      "50000/50000 [==============================] - 2s 38us/step - loss: 14.0180 - accuracy: 0.1303\n",
      "Epoch 68/100\n",
      "50000/50000 [==============================] - 2s 38us/step - loss: 13.8599 - accuracy: 0.1400\n",
      "Epoch 69/100\n",
      "50000/50000 [==============================] - 2s 38us/step - loss: 14.2219 - accuracy: 0.1176\n",
      "Epoch 70/100\n",
      "50000/50000 [==============================] - 2s 38us/step - loss: 14.0685 - accuracy: 0.1271\n",
      "Epoch 71/100\n",
      "50000/50000 [==============================] - 2s 38us/step - loss: 13.7604 - accuracy: 0.1462\n",
      "Epoch 72/100\n",
      "50000/50000 [==============================] - 2s 37us/step - loss: 13.8977 - accuracy: 0.1377\n",
      "Epoch 73/100\n",
      "50000/50000 [==============================] - 2s 37us/step - loss: 13.7004 - accuracy: 0.1500\n",
      "Epoch 74/100\n",
      "50000/50000 [==============================] - 2s 38us/step - loss: 13.9496 - accuracy: 0.1345\n",
      "Epoch 75/100\n",
      "50000/50000 [==============================] - 2s 37us/step - loss: 14.3599 - accuracy: 0.1091\n",
      "Epoch 76/100\n",
      "50000/50000 [==============================] - 2s 38us/step - loss: 14.1182 - accuracy: 0.1241\n",
      "Epoch 77/100\n",
      "50000/50000 [==============================] - 2s 38us/step - loss: 13.8943 - accuracy: 0.1379\n",
      "Epoch 78/100\n",
      "50000/50000 [==============================] - 2s 38us/step - loss: 14.1600 - accuracy: 0.1215\n",
      "Epoch 79/100\n",
      "50000/50000 [==============================] - 2s 38us/step - loss: 13.6464 - accuracy: 0.1532\n",
      "Epoch 80/100\n",
      "50000/50000 [==============================] - 2s 38us/step - loss: 13.5471 - accuracy: 0.1593\n",
      "Epoch 81/100\n",
      "50000/50000 [==============================] - 2s 37us/step - loss: 13.4399 - accuracy: 0.1660\n",
      "Epoch 82/100\n",
      "50000/50000 [==============================] - 2s 38us/step - loss: 13.7300 - accuracy: 0.1481\n",
      "Epoch 83/100\n",
      "50000/50000 [==============================] - 2s 38us/step - loss: 13.5933 - accuracy: 0.1565\n",
      "Epoch 84/100\n",
      "50000/50000 [==============================] - 2s 38us/step - loss: 13.8726 - accuracy: 0.1392\n",
      "Epoch 85/100\n",
      "50000/50000 [==============================] - 2s 38us/step - loss: 13.4759 - accuracy: 0.1638\n",
      "Epoch 86/100\n",
      "50000/50000 [==============================] - 2s 38us/step - loss: 13.5842 - accuracy: 0.1571\n",
      "Epoch 87/100\n",
      "50000/50000 [==============================] - 2s 38us/step - loss: 13.7459 - accuracy: 0.1472\n",
      "Epoch 88/100\n",
      "50000/50000 [==============================] - 2s 38us/step - loss: 14.0742 - accuracy: 0.1268\n",
      "Epoch 89/100\n",
      "50000/50000 [==============================] - 2s 37us/step - loss: 14.4160 - accuracy: 0.1056\n",
      "Epoch 90/100\n",
      "50000/50000 [==============================] - 2s 38us/step - loss: 14.4054 - accuracy: 0.1063\n",
      "Epoch 91/100\n",
      "50000/50000 [==============================] - 2s 38us/step - loss: 14.4238 - accuracy: 0.1051\n",
      "Epoch 92/100\n",
      "50000/50000 [==============================] - 2s 38us/step - loss: 14.4405 - accuracy: 0.1041\n",
      "Epoch 93/100\n",
      "50000/50000 [==============================] - 2s 38us/step - loss: 14.4445 - accuracy: 0.1038\n",
      "Epoch 94/100\n",
      "50000/50000 [==============================] - 2s 38us/step - loss: 14.4570 - accuracy: 0.1031\n",
      "Epoch 95/100\n",
      "50000/50000 [==============================] - 2s 38us/step - loss: 14.4521 - accuracy: 0.1034\n",
      "Epoch 96/100\n",
      "50000/50000 [==============================] - 2s 38us/step - loss: 14.4476 - accuracy: 0.1036\n",
      "Epoch 97/100\n",
      "50000/50000 [==============================] - ETA: 0s - loss: 14.4480 - accuracy: 0.103 - 2s 38us/step - loss: 14.4505 - accuracy: 0.1035\n",
      "Epoch 98/100\n",
      "50000/50000 [==============================] - 2s 37us/step - loss: 14.2254 - accuracy: 0.1174\n",
      "Epoch 99/100\n",
      "50000/50000 [==============================] - 2s 38us/step - loss: 14.0166 - accuracy: 0.1304\n",
      "Epoch 100/100\n",
      "50000/50000 [==============================] - 2s 38us/step - loss: 14.0937 - accuracy: 0.1256\n"
     ]
    }
   ],
   "source": [
    "# モデルの学習\n",
    "result = model.fit(\n",
    "    X_train,\n",
    "    y_train,\n",
    "    batch_size=512,\n",
    "    epochs=100,\n",
    ")"
   ]
  },
  {
   "cell_type": "code",
   "execution_count": 10,
   "metadata": {
    "collapsed": true
   },
   "outputs": [
    {
     "name": "stdout",
     "output_type": "stream",
     "text": [
      "[14.10816884765625, 0.12470000237226486]\n"
     ]
    }
   ],
   "source": [
    "# モデル結果の出力\n",
    "score = model.evaluate(X_test, y_test, verbose=0)\n",
    "print(score)"
   ]
  }
 ],
 "metadata": {
  "kernelspec": {
   "display_name": "Python 3",
   "language": "python",
   "name": "python3"
  },
  "language_info": {
   "codemirror_mode": {
    "name": "ipython",
    "version": 3
   },
   "file_extension": ".py",
   "mimetype": "text/x-python",
   "name": "python",
   "nbconvert_exporter": "python",
   "pygments_lexer": "ipython3",
   "version": "3.6.8"
  }
 },
 "nbformat": 4,
 "nbformat_minor": 2
}
