{
 "cells": [
  {
   "cell_type": "markdown",
   "metadata": {},
   "source": [
    "# 転移学習とファインチューニング\n",
    "\n",
    "kerasには、すでに学習が済んでいる大規模なニューラルネットワークモデルを流用することができます。\n",
    "\n",
    "\n",
    "+ **fine tuning**：学習済みモデルの重みを初期値にして、重みのみ再学習する\n",
    "+ **転移学習**：学習済みモデルに、層を追加して、その層について学習する"
   ]
  },
  {
   "cell_type": "code",
   "execution_count": 1,
   "metadata": {
    "collapsed": true
   },
   "outputs": [
    {
     "name": "stderr",
     "output_type": "stream",
     "text": [
      "Using TensorFlow backend.\n"
     ]
    },
    {
     "name": "stdout",
     "output_type": "stream",
     "text": [
      "(50000, 32, 32, 3) (50000, 1) (10000, 32, 32, 3) (10000, 1)\n"
     ]
    },
    {
     "data": {
      "text/plain": [
       "<matplotlib.image.AxesImage at 0x240e673a710>"
      ]
     },
     "execution_count": 1,
     "metadata": {},
     "output_type": "execute_result"
    },
    {
     "data": {
      "image/png": "[encoded data removed]",
      "text/plain": [
       "<Figure size 432x288 with 1 Axes>"
      ]
     },
     "metadata": {
      "needs_background": "light"
     },
     "output_type": "display_data"
    }
   ],
   "source": [
    "import keras\n",
    "from keras.datasets import cifar10\n",
    "(X_train, y_train), (X_test, y_test) = cifar10.load_data()\n",
    "\n",
    "# データの形式\n",
    "print(\n",
    "    X_train.shape,\n",
    "    y_train.shape,\n",
    "    X_test.shape,\n",
    "    y_test.shape\n",
    ")\n",
    "\n",
    "import matplotlib.pyplot as plt\n",
    "%matplotlib inline\n",
    "plt.imshow(X_train[0])"
   ]
  },
  {
   "cell_type": "code",
   "execution_count": 2,
   "metadata": {
    "collapsed": true
   },
   "outputs": [],
   "source": [
    "# ベクトルからone hotに変換する\n",
    "y_train = keras.utils.to_categorical(y_train,10)\n",
    "y_test = keras.utils.to_categorical(y_test,10)"
   ]
  },
  {
   "cell_type": "markdown",
   "metadata": {},
   "source": [
    "## 転移学習"
   ]
  },
  {
   "cell_type": "code",
   "execution_count": 4,
   "metadata": {
    "collapsed": true
   },
   "outputs": [
    {
     "name": "stdout",
     "output_type": "stream",
     "text": [
      "Epoch 1/30\n",
      "50000/50000 [==============================] - 8s 167us/step - loss: 2.9232 - accuracy: 0.1033\n",
      "Epoch 2/30\n",
      "50000/50000 [==============================] - 8s 150us/step - loss: 2.3257 - accuracy: 0.1057\n",
      "Epoch 3/30\n",
      "50000/50000 [==============================] - 8s 152us/step - loss: 2.3068 - accuracy: 0.1120\n",
      "Epoch 4/30\n",
      "50000/50000 [==============================] - 8s 153us/step - loss: 2.3028 - accuracy: 0.1024\n",
      "Epoch 5/30\n",
      "50000/50000 [==============================] - 8s 155us/step - loss: 2.3051 - accuracy: 0.1078\n",
      "Epoch 6/30\n",
      "50000/50000 [==============================] - 7s 149us/step - loss: 2.2958 - accuracy: 0.1115\n",
      "Epoch 7/30\n",
      "50000/50000 [==============================] - 8s 154us/step - loss: 2.2844 - accuracy: 0.1281\n",
      "Epoch 8/30\n",
      "50000/50000 [==============================] - 8s 152us/step - loss: 2.1622 - accuracy: 0.2145\n",
      "Epoch 9/30\n",
      "50000/50000 [==============================] - 8s 150us/step - loss: 1.8270 - accuracy: 0.3847\n",
      "Epoch 10/30\n",
      "50000/50000 [==============================] - 8s 151us/step - loss: 1.5197 - accuracy: 0.5136\n",
      "Epoch 11/30\n",
      "50000/50000 [==============================] - 8s 151us/step - loss: 1.2495 - accuracy: 0.5884\n",
      "Epoch 12/30\n",
      "50000/50000 [==============================] - 48s 957us/step - loss: 1.0385 - accuracy: 0.6582\n",
      "Epoch 13/30\n",
      "50000/50000 [==============================] - 82s 2ms/step - loss: 0.8941 - accuracy: 0.7087\n",
      "Epoch 14/30\n",
      "50000/50000 [==============================] - 80s 2ms/step - loss: 0.8100 - accuracy: 0.7333\n",
      "Epoch 15/30\n",
      "50000/50000 [==============================] - 82s 2ms/step - loss: 0.7427 - accuracy: 0.7552\n",
      "Epoch 16/30\n",
      "50000/50000 [==============================] - 82s 2ms/step - loss: 0.6727 - accuracy: 0.7768\n",
      "Epoch 17/30\n",
      "50000/50000 [==============================] - 80s 2ms/step - loss: 0.6224 - accuracy: 0.7945\n",
      "Epoch 18/30\n",
      "50000/50000 [==============================] - 80s 2ms/step - loss: 0.5630 - accuracy: 0.8142\n",
      "Epoch 19/30\n",
      "50000/50000 [==============================] - 79s 2ms/step - loss: 0.5194 - accuracy: 0.8276\n",
      "Epoch 20/30\n",
      "50000/50000 [==============================] - 82s 2ms/step - loss: 0.4598 - accuracy: 0.8486\n",
      "Epoch 21/30\n",
      "50000/50000 [==============================] - 81s 2ms/step - loss: 0.4265 - accuracy: 0.8592\n",
      "Epoch 22/30\n",
      "50000/50000 [==============================] - 81s 2ms/step - loss: 0.3779 - accuracy: 0.8770\n",
      "Epoch 23/30\n",
      "50000/50000 [==============================] - 81s 2ms/step - loss: 0.3426 - accuracy: 0.8876\n",
      "Epoch 24/30\n",
      "50000/50000 [==============================] - 83s 2ms/step - loss: 0.3059 - accuracy: 0.9006\n",
      "Epoch 25/30\n",
      "50000/50000 [==============================] - 80s 2ms/step - loss: 0.2610 - accuracy: 0.9179\n",
      "Epoch 26/30\n",
      "50000/50000 [==============================] - 80s 2ms/step - loss: 0.2346 - accuracy: 0.9242\n",
      "Epoch 27/30\n",
      "50000/50000 [==============================] - 79s 2ms/step - loss: 0.1829 - accuracy: 0.9424\n",
      "Epoch 28/30\n",
      "50000/50000 [==============================] - 79s 2ms/step - loss: 0.1793 - accuracy: 0.9456\n",
      "Epoch 29/30\n",
      "50000/50000 [==============================] - 81s 2ms/step - loss: 0.1393 - accuracy: 0.9578\n",
      "Epoch 30/30\n",
      "50000/50000 [==============================] - 80s 2ms/step - loss: 1.3344 - accuracy: 0.8728\n"
     ]
    }
   ],
   "source": [
    "from keras.applications.vgg16 import VGG16\n",
    "from keras.models import Sequential\n",
    "from keras.layers import Dense, Dropout, Flatten\n",
    "from keras import optimizers\n",
    "from keras import models\n",
    "from keras import layers\n",
    "\n",
    "# VGG16モデル\n",
    "img_rows = 32\n",
    "img_cols = 32\n",
    "input_tensor = layers.Input(shape=(img_rows, img_cols, 3))\n",
    "vgg16 = VGG16(\n",
    "    include_top=False,      # ネットワークの出力層側にある3つの全結合層を含むかどうか\n",
    "    weights='imagenet',      # None(ランダム初期化) 'imagenet'(ImageNetで学習した重み) \n",
    "    input_tensor=input_tensor# 入力層の形式\n",
    ")\n",
    "\n",
    "# 全結合層は自己学習モデル\n",
    "model_ = Sequential()\n",
    "model_.add(Flatten(input_shape=vgg16.output_shape[1:]))\n",
    "model_.add(Dense(256, activation='relu'))\n",
    "model_.add(Dropout(0.5))\n",
    "model_.add(Dense(10, activation='softmax'))\n",
    "\n",
    "# VGG16モデルと自己学習モデルの結合\n",
    "model = models.Model(inputs=vgg16.input, outputs=model_(vgg16.output))\n",
    "\n",
    "# modelの14層目までのモデル重み\n",
    "for layer in model.layers[:15]:\n",
    "    layer.trainable = False\n",
    "\n",
    "# モデルの学習設定\n",
    "model.compile(\n",
    "    loss='categorical_crossentropy',\n",
    "    optimizer=optimizers.SGD(lr=0.01),\n",
    "    metrics=['accuracy']\n",
    ")\n",
    "\n",
    "# モデルの学習\n",
    "result = model.fit(\n",
    "    X_train,\n",
    "    y_train,\n",
    "    batch_size=512,\n",
    "    epochs=30,\n",
    ")"
   ]
  },
  {
   "cell_type": "code",
   "execution_count": 5,
   "metadata": {
    "collapsed": true
   },
   "outputs": [],
   "source": [
    "# モデルの保存\n",
    "model.save('./model/model_cnn.h5')"
   ]
  },
  {
   "cell_type": "code",
   "execution_count": 6,
   "metadata": {
    "collapsed": true
   },
   "outputs": [],
   "source": [
    "# テストデータへの適用\n",
    "import numpy as np\n",
    "y_predict = np.argmax(model.predict(X_test),axis=1)"
   ]
  },
  {
   "cell_type": "code",
   "execution_count": 7,
   "metadata": {
    "collapsed": true
   },
   "outputs": [
    {
     "name": "stdout",
     "output_type": "stream",
     "text": [
      "0.1\n"
     ]
    }
   ],
   "source": [
    "# 正答率の算出\n",
    "y_test = np.argmax(y_test,axis=1)\n",
    "acc=np.sum(y_test==y_predict)/len(y_test)\n",
    "print(acc)"
   ]
  },
  {
   "cell_type": "markdown",
   "metadata": {},
   "source": [
    "# 転移学習を行わなかった場合"
   ]
  },
  {
   "cell_type": "code",
   "execution_count": 8,
   "metadata": {
    "collapsed": true
   },
   "outputs": [],
   "source": [
    "# データ読み込み\n",
    "from keras.datasets import cifar10\n",
    "(X_train, y_train), (X_test, y_test) = cifar10.load_data()\n",
    "\n",
    "# ベクトルからone hotに変換する\n",
    "y_train = keras.utils.to_categorical(y_train,10)\n",
    "y_test = keras.utils.to_categorical(y_test,10)"
   ]
  },
  {
   "cell_type": "code",
   "execution_count": 9,
   "metadata": {
    "collapsed": true
   },
   "outputs": [],
   "source": [
    "from keras.models import Sequential\n",
    "from keras.layers import Dense, Dropout, Flatten\n",
    "from keras.layers import Conv2D, MaxPooling2D\n",
    "from keras import optimizers\n",
    "\n",
    "# 基本モデル作成\n",
    "model = Sequential()\n",
    "\n",
    "# 3×3の畳み込み層の追加\n",
    "model.add(\n",
    "    Conv2D(\n",
    "        filters=32,\n",
    "        kernel_size=(3, 3),\n",
    "        activation='relu',\n",
    "    )\n",
    ")\n",
    "\n",
    "# 2×2のmaxプーリング層追加\n",
    "model.add(\n",
    "    MaxPooling2D(\n",
    "        pool_size=(2, 2)\n",
    "    )\n",
    ")\n",
    "\n",
    "# ドロップアウト層の追加\n",
    "model.add(\n",
    "    Dropout(0.2)\n",
    ")\n",
    "\n",
    "# フラット層の追加\n",
    "model.add(\n",
    "    Flatten()\n",
    ")\n",
    "\n",
    "# 全結合層の追加\n",
    "model.add(\n",
    "    Dense(\n",
    "        128, \n",
    "        activation='relu'\n",
    "    )\n",
    ")\n",
    "\n",
    "# ドロップアウト層の追加\n",
    "model.add(\n",
    "    Dropout(0.2)\n",
    ")\n",
    "\n",
    "# 出力層\n",
    "model.add(\n",
    "    Dense(\n",
    "        10, \n",
    "        activation='softmax'\n",
    "    )\n",
    ")"
   ]
  },
  {
   "cell_type": "code",
   "execution_count": 10,
   "metadata": {
    "collapsed": true
   },
   "outputs": [],
   "source": [
    "# モデルの学習設定\n",
    "model.compile(\n",
    "    loss=keras.losses.categorical_crossentropy,\n",
    "    optimizer=optimizers.SGD(lr=0.01),\n",
    "    metrics=['accuracy']\n",
    ")"
   ]
  },
  {
   "cell_type": "code",
   "execution_count": 11,
   "metadata": {
    "collapsed": true
   },
   "outputs": [
    {
     "name": "stdout",
     "output_type": "stream",
     "text": [
      "Epoch 1/100\n",
      "50000/50000 [==============================] - 17s 340us/step - loss: 14.4987 - accuracy: 0.1001\n",
      "Epoch 2/100\n",
      "50000/50000 [==============================] - 17s 335us/step - loss: 14.4954 - accuracy: 0.1005\n",
      "Epoch 3/100\n",
      "50000/50000 [==============================] - 16s 326us/step - loss: 14.5063 - accuracy: 0.1000\n",
      "Epoch 4/100\n",
      "50000/50000 [==============================] - 16s 327us/step - loss: 14.5229 - accuracy: 0.0989\n",
      "Epoch 5/100\n",
      "50000/50000 [==============================] - 16s 327us/step - loss: 14.4945 - accuracy: 0.1006\n",
      "Epoch 6/100\n",
      "50000/50000 [==============================] - 16s 326us/step - loss: 14.5060 - accuracy: 0.1000\n",
      "Epoch 7/100\n",
      "50000/50000 [==============================] - 16s 326us/step - loss: 14.5063 - accuracy: 0.1000\n",
      "Epoch 8/100\n",
      "50000/50000 [==============================] - 16s 326us/step - loss: 14.5045 - accuracy: 0.1001\n",
      "Epoch 9/100\n",
      "50000/50000 [==============================] - 16s 326us/step - loss: 14.5062 - accuracy: 0.1000\n",
      "Epoch 10/100\n",
      "50000/50000 [==============================] - 16s 327us/step - loss: 14.5066 - accuracy: 0.1000\n",
      "Epoch 11/100\n",
      "50000/50000 [==============================] - 16s 327us/step - loss: 14.4854 - accuracy: 0.1005\n",
      "Epoch 12/100\n",
      "50000/50000 [==============================] - 16s 327us/step - loss: 14.4778 - accuracy: 0.1012\n",
      "Epoch 13/100\n",
      "50000/50000 [==============================] - 16s 326us/step - loss: 14.4211 - accuracy: 0.1046\n",
      "Epoch 14/100\n",
      "50000/50000 [==============================] - 16s 327us/step - loss: 14.2381 - accuracy: 0.1156\n",
      "Epoch 15/100\n",
      "50000/50000 [==============================] - 16s 326us/step - loss: 14.0804 - accuracy: 0.1254\n",
      "Epoch 16/100\n",
      "50000/50000 [==============================] - 16s 326us/step - loss: 13.7913 - accuracy: 0.1438\n",
      "Epoch 17/100\n",
      "50000/50000 [==============================] - 16s 327us/step - loss: 13.9305 - accuracy: 0.1354\n",
      "Epoch 18/100\n",
      "50000/50000 [==============================] - 16s 326us/step - loss: 14.3818 - accuracy: 0.1075\n",
      "Epoch 19/100\n",
      "50000/50000 [==============================] - 16s 327us/step - loss: 14.5063 - accuracy: 0.1000\n",
      "Epoch 20/100\n",
      "50000/50000 [==============================] - 16s 326us/step - loss: 14.5058 - accuracy: 0.1000\n",
      "Epoch 21/100\n",
      "50000/50000 [==============================] - 16s 327us/step - loss: 14.4977 - accuracy: 0.1005\n",
      "Epoch 22/100\n",
      "50000/50000 [==============================] - 16s 328us/step - loss: 13.9245 - accuracy: 0.1355\n",
      "Epoch 23/100\n",
      "50000/50000 [==============================] - 16s 326us/step - loss: 13.6594 - accuracy: 0.1518\n",
      "Epoch 24/100\n",
      "50000/50000 [==============================] - 16s 326us/step - loss: 13.9154 - accuracy: 0.1363\n",
      "Epoch 25/100\n",
      "50000/50000 [==============================] - 16s 326us/step - loss: 13.9548 - accuracy: 0.1341\n",
      "Epoch 26/100\n",
      "50000/50000 [==============================] - 16s 327us/step - loss: 14.4544 - accuracy: 0.1032\n",
      "Epoch 27/100\n",
      "50000/50000 [==============================] - 16s 329us/step - loss: 14.4544 - accuracy: 0.1032\n",
      "Epoch 28/100\n",
      "50000/50000 [==============================] - 17s 330us/step - loss: 14.1137 - accuracy: 0.1242\n",
      "Epoch 29/100\n",
      "50000/50000 [==============================] - 16s 327us/step - loss: 14.1604 - accuracy: 0.1214\n",
      "Epoch 30/100\n",
      "50000/50000 [==============================] - 16s 326us/step - loss: 13.5789 - accuracy: 0.1574\n",
      "Epoch 31/100\n",
      "50000/50000 [==============================] - 16s 326us/step - loss: 13.8152 - accuracy: 0.1428\n",
      "Epoch 32/100\n",
      "50000/50000 [==============================] - 16s 326us/step - loss: 14.0999 - accuracy: 0.1251\n",
      "Epoch 33/100\n",
      "50000/50000 [==============================] - 16s 326us/step - loss: 13.7278 - accuracy: 0.1482\n",
      "Epoch 34/100\n",
      "50000/50000 [==============================] - 16s 326us/step - loss: 13.6214 - accuracy: 0.1544\n",
      "Epoch 35/100\n",
      "50000/50000 [==============================] - 16s 326us/step - loss: 13.5728 - accuracy: 0.1577\n",
      "Epoch 36/100\n",
      "50000/50000 [==============================] - 16s 325us/step - loss: 14.0598 - accuracy: 0.1276\n",
      "Epoch 37/100\n",
      "50000/50000 [==============================] - 16s 327us/step - loss: 13.7915 - accuracy: 0.1443\n",
      "Epoch 38/100\n",
      "50000/50000 [==============================] - 16s 326us/step - loss: 13.7200 - accuracy: 0.1487\n",
      "Epoch 39/100\n",
      "50000/50000 [==============================] - 16s 326us/step - loss: 14.4390 - accuracy: 0.1042\n",
      "Epoch 40/100\n",
      "50000/50000 [==============================] - 16s 326us/step - loss: 14.4653 - accuracy: 0.1025\n",
      "Epoch 41/100\n",
      "50000/50000 [==============================] - 16s 327us/step - loss: 14.4045 - accuracy: 0.1063\n",
      "Epoch 42/100\n",
      "50000/50000 [==============================] - 16s 325us/step - loss: 14.0398 - accuracy: 0.1289\n",
      "Epoch 43/100\n",
      "50000/50000 [==============================] - 16s 326us/step - loss: 13.6343 - accuracy: 0.1540\n",
      "Epoch 44/100\n",
      "50000/50000 [==============================] - 16s 326us/step - loss: 13.6776 - accuracy: 0.1514\n",
      "Epoch 45/100\n",
      "50000/50000 [==============================] - 16s 327us/step - loss: 13.7034 - accuracy: 0.1497\n",
      "Epoch 46/100\n",
      "50000/50000 [==============================] - 16s 326us/step - loss: 14.0425 - accuracy: 0.1287\n",
      "Epoch 47/100\n",
      "50000/50000 [==============================] - 16s 327us/step - loss: 13.9651 - accuracy: 0.1335\n",
      "Epoch 48/100\n",
      "50000/50000 [==============================] - 16s 327us/step - loss: 14.1513 - accuracy: 0.1220\n",
      "Epoch 49/100\n",
      "50000/50000 [==============================] - 16s 326us/step - loss: 13.8563 - accuracy: 0.1402\n",
      "Epoch 50/100\n",
      "50000/50000 [==============================] - 16s 327us/step - loss: 13.9987 - accuracy: 0.1315\n",
      "Epoch 51/100\n",
      "50000/50000 [==============================] - 16s 326us/step - loss: 14.2182 - accuracy: 0.1178\n",
      "Epoch 52/100\n",
      "50000/50000 [==============================] - 16s 325us/step - loss: 14.0676 - accuracy: 0.1272\n",
      "Epoch 53/100\n",
      "50000/50000 [==============================] - 16s 326us/step - loss: 14.3883 - accuracy: 0.1073\n",
      "Epoch 54/100\n",
      "50000/50000 [==============================] - 16s 326us/step - loss: 14.2200 - accuracy: 0.1177\n",
      "Epoch 55/100\n",
      "50000/50000 [==============================] - 16s 326us/step - loss: 14.3179 - accuracy: 0.1117\n",
      "Epoch 56/100\n",
      "50000/50000 [==============================] - 16s 326us/step - loss: 14.0038 - accuracy: 0.1312\n",
      "Epoch 57/100\n",
      "50000/50000 [==============================] - 16s 326us/step - loss: 14.3381 - accuracy: 0.1104\n",
      "Epoch 58/100\n",
      "50000/50000 [==============================] - 16s 326us/step - loss: 14.0167 - accuracy: 0.1303\n",
      "Epoch 59/100\n",
      "50000/50000 [==============================] - 16s 326us/step - loss: 14.0074 - accuracy: 0.1309\n",
      "Epoch 60/100\n",
      "50000/50000 [==============================] - 16s 326us/step - loss: 14.1082 - accuracy: 0.1247\n",
      "Epoch 61/100\n",
      "50000/50000 [==============================] - 16s 327us/step - loss: 14.3633 - accuracy: 0.1089\n",
      "Epoch 62/100\n",
      "50000/50000 [==============================] - 16s 327us/step - loss: 14.1295 - accuracy: 0.1234\n",
      "Epoch 63/100\n",
      "50000/50000 [==============================] - 16s 328us/step - loss: 13.7508 - accuracy: 0.1468\n",
      "Epoch 64/100\n",
      "50000/50000 [==============================] - 16s 326us/step - loss: 14.1517 - accuracy: 0.1220\n",
      "Epoch 65/100\n",
      "50000/50000 [==============================] - 16s 327us/step - loss: 13.8320 - accuracy: 0.1418\n",
      "Epoch 66/100\n",
      "50000/50000 [==============================] - 16s 326us/step - loss: 14.0700 - accuracy: 0.1271\n",
      "Epoch 67/100\n",
      "50000/50000 [==============================] - 16s 326us/step - loss: 14.4431 - accuracy: 0.1039\n",
      "Epoch 68/100\n",
      "50000/50000 [==============================] - 16s 326us/step - loss: 14.4457 - accuracy: 0.1038\n",
      "Epoch 69/100\n",
      "50000/50000 [==============================] - 16s 327us/step - loss: 14.1594 - accuracy: 0.1215\n",
      "Epoch 70/100\n",
      "50000/50000 [==============================] - 16s 327us/step - loss: 14.0801 - accuracy: 0.1264\n",
      "Epoch 71/100\n",
      "50000/50000 [==============================] - 16s 326us/step - loss: 13.8593 - accuracy: 0.1401\n",
      "Epoch 72/100\n",
      "50000/50000 [==============================] - 16s 326us/step - loss: 13.5769 - accuracy: 0.1577\n",
      "Epoch 73/100\n",
      "50000/50000 [==============================] - 16s 326us/step - loss: 13.5414 - accuracy: 0.1599\n",
      "Epoch 74/100\n",
      "50000/50000 [==============================] - 16s 327us/step - loss: 14.2320 - accuracy: 0.1170\n",
      "Epoch 75/100\n"
     ]
    },
    {
     "name": "stdout",
     "output_type": "stream",
     "text": [
      "50000/50000 [==============================] - 16s 326us/step - loss: 14.4483 - accuracy: 0.1036\n",
      "Epoch 76/100\n",
      "50000/50000 [==============================] - 16s 325us/step - loss: 14.4457 - accuracy: 0.1038\n",
      "Epoch 77/100\n",
      "50000/50000 [==============================] - 16s 330us/step - loss: 14.4441 - accuracy: 0.1039\n",
      "Epoch 78/100\n",
      "50000/50000 [==============================] - 16s 327us/step - loss: 14.4441 - accuracy: 0.1039\n",
      "Epoch 79/100\n",
      "50000/50000 [==============================] - 16s 327us/step - loss: 14.4449 - accuracy: 0.1038\n",
      "Epoch 80/100\n",
      "50000/50000 [==============================] - 16s 327us/step - loss: 14.4482 - accuracy: 0.1036\n",
      "Epoch 81/100\n",
      "50000/50000 [==============================] - 16s 326us/step - loss: 14.5024 - accuracy: 0.1002\n",
      "Epoch 82/100\n",
      "50000/50000 [==============================] - 16s 325us/step - loss: 14.5021 - accuracy: 0.1003\n",
      "Epoch 83/100\n",
      "50000/50000 [==============================] - 16s 325us/step - loss: 14.5024 - accuracy: 0.1002\n",
      "Epoch 84/100\n",
      "50000/50000 [==============================] - 16s 325us/step - loss: 14.5024 - accuracy: 0.1002\n",
      "Epoch 85/100\n",
      "50000/50000 [==============================] - 16s 325us/step - loss: 14.5018 - accuracy: 0.1003\n",
      "Epoch 86/100\n",
      "50000/50000 [==============================] - 16s 326us/step - loss: 14.5024 - accuracy: 0.1002\n",
      "Epoch 87/100\n",
      "50000/50000 [==============================] - 16s 326us/step - loss: 14.5015 - accuracy: 0.1003\n",
      "Epoch 88/100\n",
      "50000/50000 [==============================] - 16s 326us/step - loss: 14.5021 - accuracy: 0.1003\n",
      "Epoch 89/100\n",
      "50000/50000 [==============================] - 16s 325us/step - loss: 14.5018 - accuracy: 0.1003\n",
      "Epoch 90/100\n",
      "50000/50000 [==============================] - 16s 325us/step - loss: 14.5021 - accuracy: 0.1003\n",
      "Epoch 91/100\n",
      "50000/50000 [==============================] - 16s 325us/step - loss: 14.5018 - accuracy: 0.1003\n",
      "Epoch 92/100\n",
      "50000/50000 [==============================] - 16s 326us/step - loss: 14.5018 - accuracy: 0.1003\n",
      "Epoch 93/100\n",
      "50000/50000 [==============================] - 16s 326us/step - loss: 14.5027 - accuracy: 0.1002\n",
      "Epoch 94/100\n",
      "50000/50000 [==============================] - 16s 325us/step - loss: 14.5015 - accuracy: 0.1003\n",
      "Epoch 95/100\n",
      "50000/50000 [==============================] - 16s 326us/step - loss: 14.5021 - accuracy: 0.1003\n",
      "Epoch 96/100\n",
      "50000/50000 [==============================] - 16s 327us/step - loss: 14.5021 - accuracy: 0.1003\n",
      "Epoch 97/100\n",
      "50000/50000 [==============================] - 16s 326us/step - loss: 14.5021 - accuracy: 0.1003\n",
      "Epoch 98/100\n",
      "50000/50000 [==============================] - 16s 326us/step - loss: 14.5024 - accuracy: 0.1002\n",
      "Epoch 99/100\n",
      "50000/50000 [==============================] - 16s 327us/step - loss: 14.5024 - accuracy: 0.1002\n",
      "Epoch 100/100\n",
      "50000/50000 [==============================] - 16s 326us/step - loss: 14.5024 - accuracy: 0.1002\n"
     ]
    }
   ],
   "source": [
    "# モデルの学習\n",
    "result = model.fit(\n",
    "    X_train,\n",
    "    y_train,\n",
    "    batch_size=512,\n",
    "    epochs=100,\n",
    ")"
   ]
  },
  {
   "cell_type": "code",
   "execution_count": 12,
   "metadata": {
    "collapsed": true
   },
   "outputs": [
    {
     "name": "stdout",
     "output_type": "stream",
     "text": [
      "[14.50306203918457, 0.10019999742507935]\n"
     ]
    }
   ],
   "source": [
    "# モデル結果の出力\n",
    "score = model.evaluate(X_test, y_test, verbose=0)\n",
    "print(score)"
   ]
  }
 ],
 "metadata": {
  "kernelspec": {
   "display_name": "Python 3",
   "language": "python",
   "name": "python3"
  },
  "language_info": {
   "codemirror_mode": {
    "name": "ipython",
    "version": 3
   },
   "file_extension": ".py",
   "mimetype": "text/x-python",
   "name": "python",
   "nbconvert_exporter": "python",
   "pygments_lexer": "ipython3",
   "version": "3.6.8"
  }
 },
 "nbformat": 4,
 "nbformat_minor": 2
}
