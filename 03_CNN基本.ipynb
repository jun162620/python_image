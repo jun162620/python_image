{
 "cells": [
  {
   "cell_type": "markdown",
   "metadata": {},
   "source": [
    "# 畳み込みニューラルネット\n",
    "\n",
    "## 概要\n",
    "https://kenyu-life.com/2019/03/07/convolutional_neural_network/\n",
    "https://www.imagazine.co.jp/%E7%95%B3%E3%81%BF%E8%BE%BC%E3%81%BF%E3%83%8D%E3%83%83%E3%83%88%E3%83%AF%E3%83%BC%E3%82%AF%E3%81%AE%E3%80%8C%E5%9F%BA%E7%A4%8E%E3%81%AE%E5%9F%BA%E7%A4%8E%E3%80%8D%E3%82%92%E7%90%86%E8%A7%A3%E3%81%99/\n",
    "\n",
    "Convolutional Neural Network(畳み込みニューラルネット)は略してCNNと呼ばれる。\n",
    "\n",
    "CNNは一般的な順伝播型のニューラルネットワークとは違い、全結合層だけでなく畳み込み層(Convolution Layer)とプーリング層(Pooling Layer)から構成される\n",
    "\n",
    "## 処理の流れ\n",
    "+ **入力層**：入力ベクトル(画像など)を入力する\n",
    "+ **特徴抽出**：入力ベクトルから、そのベクトルを象徴するようなベクトルに変換する\n",
    "    + **畳み込み層**\n",
    "    + **プーリング層**\n",
    "+ **フラット層**：高次元ベクトルを1次元ベクトルに変更する\n",
    "+ **全結合層**（中間層）：通常のニューラルネット\n",
    "+ **出力層**：分類結果を出力する"
   ]
  },
  {
   "cell_type": "markdown",
   "metadata": {},
   "source": [
    "<img src=\"./images/CNN_sample.jpg\">"
   ]
  },
  {
   "cell_type": "markdown",
   "metadata": {},
   "source": [
    "# 畳み込み層\n",
    "\n",
    "## 1次元(グレースケール)\n",
    "<img src=\"./images/CNN_conv.gif\">\n",
    "\n",
    "## 3次元(RGB)\n",
    "<img src=\"./images/CNN_conv_3D.gif\">"
   ]
  },
  {
   "cell_type": "markdown",
   "metadata": {},
   "source": [
    "# プーリング層\n",
    "\n",
    "<img src=\"./images/CNN_pooling.gif\">"
   ]
  },
  {
   "cell_type": "markdown",
   "metadata": {},
   "source": [
    "## その他の技術\n",
    "\n",
    "+ 0パディング\n",
    "\n",
    "CNNはそのアルゴリズムの特性上、外縁のベクトルが軽視されるため、外縁に0ベクトルを足して回避する手法"
   ]
  },
  {
   "cell_type": "markdown",
   "metadata": {},
   "source": [
    "# 学習データの生成"
   ]
  },
  {
   "cell_type": "code",
   "execution_count": 1,
   "metadata": {},
   "outputs": [
    {
     "name": "stderr",
     "output_type": "stream",
     "text": [
      "Using TensorFlow backend.\n"
     ]
    }
   ],
   "source": [
    "# 画像データの読み込み\n",
    "from keras.datasets import mnist\n",
    "import numpy as np\n",
    "(X_train, y_train), (X_test, y_test) = mnist.load_data()"
   ]
  },
  {
   "cell_type": "code",
   "execution_count": 2,
   "metadata": {},
   "outputs": [
    {
     "name": "stdout",
     "output_type": "stream",
     "text": [
      "(60000, 28, 28) (60000,) (10000, 28, 28) (10000,)\n"
     ]
    }
   ],
   "source": [
    "# データの形式\n",
    "print(\n",
    "    X_train.shape,\n",
    "    y_train.shape,\n",
    "    X_test.shape,\n",
    "    y_test.shape\n",
    ")"
   ]
  },
  {
   "cell_type": "markdown",
   "metadata": {},
   "source": [
    "# データ確認"
   ]
  },
  {
   "cell_type": "code",
   "execution_count": 3,
   "metadata": {
    "scrolled": true
   },
   "outputs": [
    {
     "data": {
      "text/plain": [
       "array([[  0,   0,   0,   0,   0,   0,   0,   0,   0,   0,   0,   0,   0,\n",
       "          0,   0,   0,   0,   0,   0,   0,   0,   0,   0,   0,   0,   0,\n",
       "          0,   0],\n",
       "       [  0,   0,   0,   0,   0,   0,   0,   0,   0,   0,   0,   0,   0,\n",
       "          0,   0,   0,   0,   0,   0,   0,   0,   0,   0,   0,   0,   0,\n",
       "          0,   0],\n",
       "       [  0,   0,   0,   0,   0,   0,   0,   0,   0,   0,   0,   0,   0,\n",
       "          0,   0,   0,   0,   0,   0,   0,   0,   0,   0,   0,   0,   0,\n",
       "          0,   0],\n",
       "       [  0,   0,   0,   0,   0,   0,   0,   0,   0,   0,   0,   0,   0,\n",
       "          0,   0,   0,   0,   0,   0,   0,   0,   0,   0,   0,   0,   0,\n",
       "          0,   0],\n",
       "       [  0,   0,   0,   0,   0,   0,   0,   0,   0,   0,   0,   0,   0,\n",
       "          0,   0,   0,   0,   0,   0,   0,   0,   0,   0,   0,   0,   0,\n",
       "          0,   0],\n",
       "       [  0,   0,   0,   0,   0,   0,   0,   0,   0,   0,   0,   0,   3,\n",
       "         18,  18,  18, 126, 136, 175,  26, 166, 255, 247, 127,   0,   0,\n",
       "          0,   0],\n",
       "       [  0,   0,   0,   0,   0,   0,   0,   0,  30,  36,  94, 154, 170,\n",
       "        253, 253, 253, 253, 253, 225, 172, 253, 242, 195,  64,   0,   0,\n",
       "          0,   0],\n",
       "       [  0,   0,   0,   0,   0,   0,   0,  49, 238, 253, 253, 253, 253,\n",
       "        253, 253, 253, 253, 251,  93,  82,  82,  56,  39,   0,   0,   0,\n",
       "          0,   0],\n",
       "       [  0,   0,   0,   0,   0,   0,   0,  18, 219, 253, 253, 253, 253,\n",
       "        253, 198, 182, 247, 241,   0,   0,   0,   0,   0,   0,   0,   0,\n",
       "          0,   0],\n",
       "       [  0,   0,   0,   0,   0,   0,   0,   0,  80, 156, 107, 253, 253,\n",
       "        205,  11,   0,  43, 154,   0,   0,   0,   0,   0,   0,   0,   0,\n",
       "          0,   0],\n",
       "       [  0,   0,   0,   0,   0,   0,   0,   0,   0,  14,   1, 154, 253,\n",
       "         90,   0,   0,   0,   0,   0,   0,   0,   0,   0,   0,   0,   0,\n",
       "          0,   0],\n",
       "       [  0,   0,   0,   0,   0,   0,   0,   0,   0,   0,   0, 139, 253,\n",
       "        190,   2,   0,   0,   0,   0,   0,   0,   0,   0,   0,   0,   0,\n",
       "          0,   0],\n",
       "       [  0,   0,   0,   0,   0,   0,   0,   0,   0,   0,   0,  11, 190,\n",
       "        253,  70,   0,   0,   0,   0,   0,   0,   0,   0,   0,   0,   0,\n",
       "          0,   0],\n",
       "       [  0,   0,   0,   0,   0,   0,   0,   0,   0,   0,   0,   0,  35,\n",
       "        241, 225, 160, 108,   1,   0,   0,   0,   0,   0,   0,   0,   0,\n",
       "          0,   0],\n",
       "       [  0,   0,   0,   0,   0,   0,   0,   0,   0,   0,   0,   0,   0,\n",
       "         81, 240, 253, 253, 119,  25,   0,   0,   0,   0,   0,   0,   0,\n",
       "          0,   0],\n",
       "       [  0,   0,   0,   0,   0,   0,   0,   0,   0,   0,   0,   0,   0,\n",
       "          0,  45, 186, 253, 253, 150,  27,   0,   0,   0,   0,   0,   0,\n",
       "          0,   0],\n",
       "       [  0,   0,   0,   0,   0,   0,   0,   0,   0,   0,   0,   0,   0,\n",
       "          0,   0,  16,  93, 252, 253, 187,   0,   0,   0,   0,   0,   0,\n",
       "          0,   0],\n",
       "       [  0,   0,   0,   0,   0,   0,   0,   0,   0,   0,   0,   0,   0,\n",
       "          0,   0,   0,   0, 249, 253, 249,  64,   0,   0,   0,   0,   0,\n",
       "          0,   0],\n",
       "       [  0,   0,   0,   0,   0,   0,   0,   0,   0,   0,   0,   0,   0,\n",
       "          0,  46, 130, 183, 253, 253, 207,   2,   0,   0,   0,   0,   0,\n",
       "          0,   0],\n",
       "       [  0,   0,   0,   0,   0,   0,   0,   0,   0,   0,   0,   0,  39,\n",
       "        148, 229, 253, 253, 253, 250, 182,   0,   0,   0,   0,   0,   0,\n",
       "          0,   0],\n",
       "       [  0,   0,   0,   0,   0,   0,   0,   0,   0,   0,  24, 114, 221,\n",
       "        253, 253, 253, 253, 201,  78,   0,   0,   0,   0,   0,   0,   0,\n",
       "          0,   0],\n",
       "       [  0,   0,   0,   0,   0,   0,   0,   0,  23,  66, 213, 253, 253,\n",
       "        253, 253, 198,  81,   2,   0,   0,   0,   0,   0,   0,   0,   0,\n",
       "          0,   0],\n",
       "       [  0,   0,   0,   0,   0,   0,  18, 171, 219, 253, 253, 253, 253,\n",
       "        195,  80,   9,   0,   0,   0,   0,   0,   0,   0,   0,   0,   0,\n",
       "          0,   0],\n",
       "       [  0,   0,   0,   0,  55, 172, 226, 253, 253, 253, 253, 244, 133,\n",
       "         11,   0,   0,   0,   0,   0,   0,   0,   0,   0,   0,   0,   0,\n",
       "          0,   0],\n",
       "       [  0,   0,   0,   0, 136, 253, 253, 253, 212, 135, 132,  16,   0,\n",
       "          0,   0,   0,   0,   0,   0,   0,   0,   0,   0,   0,   0,   0,\n",
       "          0,   0],\n",
       "       [  0,   0,   0,   0,   0,   0,   0,   0,   0,   0,   0,   0,   0,\n",
       "          0,   0,   0,   0,   0,   0,   0,   0,   0,   0,   0,   0,   0,\n",
       "          0,   0],\n",
       "       [  0,   0,   0,   0,   0,   0,   0,   0,   0,   0,   0,   0,   0,\n",
       "          0,   0,   0,   0,   0,   0,   0,   0,   0,   0,   0,   0,   0,\n",
       "          0,   0],\n",
       "       [  0,   0,   0,   0,   0,   0,   0,   0,   0,   0,   0,   0,   0,\n",
       "          0,   0,   0,   0,   0,   0,   0,   0,   0,   0,   0,   0,   0,\n",
       "          0,   0]], dtype=uint8)"
      ]
     },
     "execution_count": 3,
     "metadata": {},
     "output_type": "execute_result"
    }
   ],
   "source": [
    "# 画像データ\n",
    "X_train[0]"
   ]
  },
  {
   "cell_type": "code",
   "execution_count": 4,
   "metadata": {},
   "outputs": [
    {
     "data": {
      "text/plain": [
       "<matplotlib.image.AxesImage at 0x191f7060cc0>"
      ]
     },
     "execution_count": 4,
     "metadata": {},
     "output_type": "execute_result"
    },
    {
     "data": {
      "image/png": "[encoded data removed]",
      "text/plain": [
       "<Figure size 432x288 with 1 Axes>"
      ]
     },
     "metadata": {
      "needs_background": "light"
     },
     "output_type": "display_data"
    }
   ],
   "source": [
    "import matplotlib.pyplot as plt\n",
    "%matplotlib inline\n",
    "plt.imshow(X_train[0],cmap=\"gray\")"
   ]
  },
  {
   "cell_type": "code",
   "execution_count": 5,
   "metadata": {},
   "outputs": [
    {
     "data": {
      "text/plain": [
       "5"
      ]
     },
     "execution_count": 5,
     "metadata": {},
     "output_type": "execute_result"
    }
   ],
   "source": [
    "# 正解ラベル\n",
    "y_train[0]"
   ]
  },
  {
   "cell_type": "markdown",
   "metadata": {},
   "source": [
    "# データが大きいので少なくする"
   ]
  },
  {
   "cell_type": "code",
   "execution_count": 6,
   "metadata": {},
   "outputs": [],
   "source": [
    "# 計算に時間がかかるため、データ量を制限する\n",
    "X_train = X_train[:15000]\n",
    "X_test = X_test[:2500]\n",
    "y_train = y_train[:15000]\n",
    "y_test = y_test[:2500]"
   ]
  },
  {
   "cell_type": "code",
   "execution_count": 7,
   "metadata": {},
   "outputs": [],
   "source": [
    "# CNNに使用するためにデータを変形\n",
    "X_train = X_train.reshape(X_train.shape[0], 28, 28, 1)\n",
    "X_test = X_test.reshape(X_test.shape[0], 28, 28, 1)"
   ]
  },
  {
   "cell_type": "code",
   "execution_count": 8,
   "metadata": {},
   "outputs": [],
   "source": [
    "# ベクトルからone hotに変換する\n",
    "import keras\n",
    "y_train = keras.utils.to_categorical(y_train,10)\n",
    "y_test = keras.utils.to_categorical(y_test,10)"
   ]
  },
  {
   "cell_type": "markdown",
   "metadata": {},
   "source": [
    "# モデル作成"
   ]
  },
  {
   "cell_type": "code",
   "execution_count": 9,
   "metadata": {},
   "outputs": [],
   "source": [
    "# 必要なライブラリのインポート\n",
    "from keras.models import Sequential\n",
    "from keras.layers import Dense, Dropout, Flatten\n",
    "from keras.layers import Conv2D, MaxPooling2D\n",
    "from keras import optimizers"
   ]
  },
  {
   "cell_type": "code",
   "execution_count": 10,
   "metadata": {},
   "outputs": [],
   "source": [
    "# 基本モデル作成\n",
    "model = Sequential()\n",
    "\n",
    "# 3×3の畳み込み層の追加\n",
    "model.add(\n",
    "    Conv2D(\n",
    "        filters=32,\n",
    "        kernel_size=(3, 3),\n",
    "        activation='relu',\n",
    "    )\n",
    ")\n",
    "\n",
    "# 2×2のmaxプーリング層追加\n",
    "model.add(\n",
    "    MaxPooling2D(\n",
    "        pool_size=(2, 2)\n",
    "    )\n",
    ")\n",
    "\n",
    "# ドロップアウト層の追加\n",
    "model.add(\n",
    "    Dropout(0.2)\n",
    ")\n",
    "\n",
    "# フラット層の追加\n",
    "model.add(\n",
    "    Flatten()\n",
    ")\n",
    "\n",
    "# 全結合層の追加\n",
    "model.add(\n",
    "    Dense(\n",
    "        128, \n",
    "        activation='relu'\n",
    "    )\n",
    ")\n",
    "\n",
    "# ドロップアウト層の追加\n",
    "model.add(\n",
    "    Dropout(0.2)\n",
    ")\n",
    "\n",
    "# 出力層\n",
    "model.add(\n",
    "    Dense(\n",
    "        10, \n",
    "        activation='softmax'\n",
    "    )\n",
    ")"
   ]
  },
  {
   "cell_type": "markdown",
   "metadata": {},
   "source": [
    "# モデルの学習"
   ]
  },
  {
   "cell_type": "code",
   "execution_count": 11,
   "metadata": {},
   "outputs": [],
   "source": [
    "# モデルの学習設定\n",
    "model.compile(\n",
    "    loss=keras.losses.categorical_crossentropy,\n",
    "    optimizer=optimizers.SGD(lr=0.01),\n",
    "    metrics=['accuracy']\n",
    ")"
   ]
  },
  {
   "cell_type": "code",
   "execution_count": 12,
   "metadata": {
    "scrolled": true
   },
   "outputs": [
    {
     "name": "stdout",
     "output_type": "stream",
     "text": [
      "Epoch 1/10\n",
      "15000/15000 [==============================] - 5s 360us/step - loss: 5.7613 - accuracy: 0.1265\n",
      "Epoch 2/10\n",
      "15000/15000 [==============================] - 6s 382us/step - loss: 2.2837 - accuracy: 0.1449\n",
      "Epoch 3/10\n",
      "15000/15000 [==============================] - 6s 372us/step - loss: 2.2569 - accuracy: 0.1965\n",
      "Epoch 4/10\n",
      "15000/15000 [==============================] - 6s 373us/step - loss: 2.0467 - accuracy: 0.3251\n",
      "Epoch 5/10\n",
      "15000/15000 [==============================] - 6s 367us/step - loss: 1.0760 - accuracy: 0.6564\n",
      "Epoch 6/10\n",
      "15000/15000 [==============================] - 5s 365us/step - loss: 0.6325 - accuracy: 0.8047\n",
      "Epoch 7/10\n",
      "15000/15000 [==============================] - 6s 368us/step - loss: 0.4929 - accuracy: 0.8473\n",
      "Epoch 8/10\n",
      "15000/15000 [==============================] - 6s 367us/step - loss: 0.4167 - accuracy: 0.8695\n",
      "Epoch 9/10\n",
      "15000/15000 [==============================] - 6s 374us/step - loss: 0.3691 - accuracy: 0.8836\n",
      "Epoch 10/10\n",
      "15000/15000 [==============================] - 6s 380us/step - loss: 0.3337 - accuracy: 0.8971\n"
     ]
    }
   ],
   "source": [
    "# モデルの学習\n",
    "result = model.fit(\n",
    "    X_train,\n",
    "    y_train,\n",
    "    batch_size=256,\n",
    "    epochs=10,\n",
    ")"
   ]
  },
  {
   "cell_type": "code",
   "execution_count": 13,
   "metadata": {},
   "outputs": [
    {
     "name": "stdout",
     "output_type": "stream",
     "text": [
      "[0.28495916209816935, 0.9160000085830688]\n"
     ]
    }
   ],
   "source": [
    "# モデル結果の出力\n",
    "score = model.evaluate(X_test, y_test, verbose=0)\n",
    "print(score)"
   ]
  },
  {
   "cell_type": "markdown",
   "metadata": {},
   "source": [
    "# 学習済みモデルの適用（転移学習）\n",
    "\n",
    "kerasには、すでに学習が済んでいるニューラルネットワークモデルを流用することができる。転移学習といいます。"
   ]
  },
  {
   "cell_type": "code",
   "execution_count": 14,
   "metadata": {},
   "outputs": [
    {
     "name": "stdout",
     "output_type": "stream",
     "text": [
      "(50000, 32, 32, 3) (50000, 1) (10000, 32, 32, 3) (10000, 1)\n"
     ]
    },
    {
     "data": {
      "text/plain": [
       "<matplotlib.image.AxesImage at 0x191f4520da0>"
      ]
     },
     "execution_count": 14,
     "metadata": {},
     "output_type": "execute_result"
    },
    {
     "data": {
      "image/png": "[encoded data removed]",
      "text/plain": [
       "<Figure size 432x288 with 1 Axes>"
      ]
     },
     "metadata": {
      "needs_background": "light"
     },
     "output_type": "display_data"
    }
   ],
   "source": [
    "from keras.datasets import cifar10\n",
    "(X_train, y_train), (X_test, y_test) = cifar10.load_data()\n",
    "\n",
    "# データの形式\n",
    "print(\n",
    "    X_train.shape,\n",
    "    y_train.shape,\n",
    "    X_test.shape,\n",
    "    y_test.shape\n",
    ")\n",
    "\n",
    "import matplotlib.pyplot as plt\n",
    "%matplotlib inline\n",
    "plt.imshow(X_train[0])"
   ]
  },
  {
   "cell_type": "code",
   "execution_count": 15,
   "metadata": {},
   "outputs": [],
   "source": [
    "# 計算に時間がかかるため、データ量を制限する\n",
    "X_train = X_train[:25000]\n",
    "X_test = X_test[:2500]\n",
    "y_train = y_train[:25000]\n",
    "y_test = y_test[:2500]"
   ]
  },
  {
   "cell_type": "code",
   "execution_count": 16,
   "metadata": {},
   "outputs": [],
   "source": [
    "# ベクトルからone hotに変換する\n",
    "y_train = keras.utils.to_categorical(y_train,10)\n",
    "y_test = keras.utils.to_categorical(y_test,10)"
   ]
  },
  {
   "cell_type": "code",
   "execution_count": null,
   "metadata": {},
   "outputs": [
    {
     "name": "stdout",
     "output_type": "stream",
     "text": [
      "Epoch 1/100\n",
      "25000/25000 [==============================] - 669s 27ms/step - loss: 4.2740 - accuracy: 0.1043\n",
      "Epoch 2/100\n",
      "25000/25000 [==============================] - 655s 26ms/step - loss: 2.3013 - accuracy: 0.1063\n",
      "Epoch 3/100\n",
      "25000/25000 [==============================] - 656s 26ms/step - loss: 2.3001 - accuracy: 0.1042\n",
      "Epoch 4/100\n",
      "25000/25000 [==============================] - 657s 26ms/step - loss: 2.3022 - accuracy: 0.1006\n",
      "Epoch 5/100\n",
      "25000/25000 [==============================] - 648s 26ms/step - loss: 2.3017 - accuracy: 0.1047\n",
      "Epoch 6/100\n",
      "25000/25000 [==============================] - 657s 26ms/step - loss: 2.2988 - accuracy: 0.1088\n",
      "Epoch 7/100\n",
      "25000/25000 [==============================] - 657s 26ms/step - loss: 2.3000 - accuracy: 0.1064\n",
      "Epoch 8/100\n",
      "25000/25000 [==============================] - 656s 26ms/step - loss: 2.2971 - accuracy: 0.1102\n",
      "Epoch 9/100\n",
      "25000/25000 [==============================] - 657s 26ms/step - loss: 2.2907 - accuracy: 0.1192\n",
      "Epoch 10/100\n",
      "25000/25000 [==============================] - 655s 26ms/step - loss: 2.2855 - accuracy: 0.1224\n",
      "Epoch 11/100\n",
      "25000/25000 [==============================] - 656s 26ms/step - loss: 2.2624 - accuracy: 0.1470\n",
      "Epoch 12/100\n",
      "25000/25000 [==============================] - 657s 26ms/step - loss: 2.2526 - accuracy: 0.1594\n",
      "Epoch 13/100\n",
      "25000/25000 [==============================] - 658s 26ms/step - loss: 2.2074 - accuracy: 0.2070\n",
      "Epoch 14/100\n",
      "25000/25000 [==============================] - 658s 26ms/step - loss: 2.1113 - accuracy: 0.2678\n",
      "Epoch 15/100\n",
      "25000/25000 [==============================] - 653s 26ms/step - loss: 1.9641 - accuracy: 0.3468\n",
      "Epoch 16/100\n",
      "25000/25000 [==============================] - 659s 26ms/step - loss: 1.7415 - accuracy: 0.4582\n",
      "Epoch 17/100\n",
      "25000/25000 [==============================] - 657s 26ms/step - loss: 1.5740 - accuracy: 0.5236\n",
      "Epoch 18/100\n",
      "25000/25000 [==============================] - 664s 27ms/step - loss: 1.4457 - accuracy: 0.5668\n",
      "Epoch 19/100\n",
      "25000/25000 [==============================] - 657s 26ms/step - loss: 1.3503 - accuracy: 0.6015\n",
      "Epoch 20/100\n",
      "25000/25000 [==============================] - 659s 26ms/step - loss: 1.2733 - accuracy: 0.6254\n",
      "Epoch 21/100\n",
      "25000/25000 [==============================] - 659s 26ms/step - loss: 1.1920 - accuracy: 0.6517\n",
      "Epoch 22/100\n",
      "25000/25000 [==============================] - 659s 26ms/step - loss: 1.1058 - accuracy: 0.6782\n",
      "Epoch 23/100\n",
      "25000/25000 [==============================] - 657s 26ms/step - loss: 1.0777 - accuracy: 0.6826\n",
      "Epoch 24/100\n",
      "25000/25000 [==============================] - 658s 26ms/step - loss: 1.0278 - accuracy: 0.7058\n",
      "Epoch 25/100\n",
      "25000/25000 [==============================] - 659s 26ms/step - loss: 0.9729 - accuracy: 0.7177\n",
      "Epoch 26/100\n",
      "25000/25000 [==============================] - 658s 26ms/step - loss: 0.9122 - accuracy: 0.7376\n",
      "Epoch 27/100\n",
      "25000/25000 [==============================] - 657s 26ms/step - loss: 0.8734 - accuracy: 0.7492\n",
      "Epoch 28/100\n",
      "25000/25000 [==============================] - 660s 26ms/step - loss: 0.8519 - accuracy: 0.7556\n",
      "Epoch 29/100\n",
      "25000/25000 [==============================] - 660s 26ms/step - loss: 0.8034 - accuracy: 0.7694\n",
      "Epoch 30/100\n",
      "25000/25000 [==============================] - 661s 26ms/step - loss: 0.7794 - accuracy: 0.7746\n",
      "Epoch 31/100\n",
      "25000/25000 [==============================] - 660s 26ms/step - loss: 0.7581 - accuracy: 0.7814\n",
      "Epoch 32/100\n",
      "25000/25000 [==============================] - 660s 26ms/step - loss: 0.6990 - accuracy: 0.7872\n",
      "Epoch 33/100\n",
      "25000/25000 [==============================] - 661s 26ms/step - loss: 0.6483 - accuracy: 0.7947\n",
      "Epoch 34/100\n",
      "25000/25000 [==============================] - 660s 26ms/step - loss: 0.5676 - accuracy: 0.8215\n",
      "Epoch 35/100\n",
      "25000/25000 [==============================] - 660s 26ms/step - loss: 0.5250 - accuracy: 0.8326\n",
      "Epoch 36/100\n",
      "25000/25000 [==============================] - 666s 27ms/step - loss: 0.4850 - accuracy: 0.8470\n",
      "Epoch 37/100\n",
      "25000/25000 [==============================] - 661s 26ms/step - loss: 0.4425 - accuracy: 0.8594\n",
      "Epoch 38/100\n",
      "25000/25000 [==============================] - 660s 26ms/step - loss: 0.4326 - accuracy: 0.8637\n",
      "Epoch 39/100\n",
      "25000/25000 [==============================] - 660s 26ms/step - loss: 0.3797 - accuracy: 0.8833\n",
      "Epoch 40/100\n",
      "25000/25000 [==============================] - 661s 26ms/step - loss: 0.3663 - accuracy: 0.8846\n",
      "Epoch 41/100\n",
      "25000/25000 [==============================] - 660s 26ms/step - loss: 0.3682 - accuracy: 0.8826\n",
      "Epoch 42/100\n",
      "25000/25000 [==============================] - 661s 26ms/step - loss: 0.3068 - accuracy: 0.9047\n",
      "Epoch 43/100\n",
      "25000/25000 [==============================] - 659s 26ms/step - loss: 0.2945 - accuracy: 0.9099\n",
      "Epoch 44/100\n",
      "25000/25000 [==============================] - 659s 26ms/step - loss: 0.3753 - accuracy: 0.8879\n",
      "Epoch 45/100\n",
      "25000/25000 [==============================] - 663s 27ms/step - loss: 0.2664 - accuracy: 0.9172\n",
      "Epoch 46/100\n",
      "25000/25000 [==============================] - 661s 26ms/step - loss: 0.2325 - accuracy: 0.9292\n",
      "Epoch 47/100\n",
      "25000/25000 [==============================] - 659s 26ms/step - loss: 0.2163 - accuracy: 0.9346\n",
      "Epoch 48/100\n",
      "25000/25000 [==============================] - 663s 27ms/step - loss: 0.1898 - accuracy: 0.9438\n",
      "Epoch 49/100\n",
      "25000/25000 [==============================] - 660s 26ms/step - loss: 0.1726 - accuracy: 0.9480\n",
      "Epoch 50/100\n",
      "25000/25000 [==============================] - 659s 26ms/step - loss: 0.1613 - accuracy: 0.9512\n",
      "Epoch 51/100\n",
      "25000/25000 [==============================] - 663s 27ms/step - loss: 0.1704 - accuracy: 0.9496\n",
      "Epoch 52/100\n",
      "25000/25000 [==============================] - 654s 26ms/step - loss: 0.2353 - accuracy: 0.9309\n",
      "Epoch 53/100\n",
      "25000/25000 [==============================] - 651s 26ms/step - loss: 0.1256 - accuracy: 0.9641\n",
      "Epoch 54/100\n",
      "25000/25000 [==============================] - 654s 26ms/step - loss: 0.1149 - accuracy: 0.9659\n",
      "Epoch 55/100\n",
      "25000/25000 [==============================] - 653s 26ms/step - loss: 0.1044 - accuracy: 0.9707\n",
      "Epoch 56/100\n",
      "25000/25000 [==============================] - 654s 26ms/step - loss: 0.0987 - accuracy: 0.9722\n",
      "Epoch 57/100\n",
      "25000/25000 [==============================] - 653s 26ms/step - loss: 0.0926 - accuracy: 0.9733\n",
      "Epoch 58/100\n",
      "25000/25000 [==============================] - 653s 26ms/step - loss: 0.0895 - accuracy: 0.9730\n",
      "Epoch 59/100\n",
      "25000/25000 [==============================] - 652s 26ms/step - loss: 0.0850 - accuracy: 0.9762\n",
      "Epoch 60/100\n",
      "25000/25000 [==============================] - 652s 26ms/step - loss: 0.0783 - accuracy: 0.9768\n",
      "Epoch 61/100\n",
      "25000/25000 [==============================] - 653s 26ms/step - loss: 0.0748 - accuracy: 0.9782\n",
      "Epoch 62/100\n",
      "25000/25000 [==============================] - 654s 26ms/step - loss: 0.0735 - accuracy: 0.9782\n",
      "Epoch 63/100\n",
      "25000/25000 [==============================] - 657s 26ms/step - loss: 0.0711 - accuracy: 0.9788\n",
      "Epoch 64/100\n",
      "11264/25000 [============>.................] - ETA: 6:45 - loss: 2.7984 - accuracy: 0.3923"
     ]
    }
   ],
   "source": [
    "from keras.applications.vgg16 import VGG16\n",
    "from keras import models\n",
    "from keras import layers\n",
    "\n",
    "# VGG16モデル\n",
    "img_rows = 32\n",
    "img_cols = 32\n",
    "input_tensor = layers.Input(shape=(img_rows, img_cols, 3))\n",
    "vgg16 = VGG16(include_top=False, weights='imagenet', input_tensor=input_tensor)\n",
    "\n",
    "# 全結合層は自己学習モデル\n",
    "model_ = Sequential()\n",
    "model_.add(Flatten(input_shape=vgg16.output_shape[1:]))\n",
    "model_.add(Dense(256, activation='relu'))\n",
    "model_.add(Dropout(0.5))\n",
    "model_.add(Dense(10, activation='softmax'))\n",
    "\n",
    "# VGG16モデルと自己学習モデルの結合\n",
    "model = models.Model(inputs=vgg16.input, outputs=model_(vgg16.output))\n",
    "\n",
    "# modelの14層目までのモデル重み\n",
    "for layer in model.layers[:15]:\n",
    "    layer.trainable = False\n",
    "\n",
    "# モデルの学習設定\n",
    "model.compile(\n",
    "    loss='categorical_crossentropy',\n",
    "    optimizer=optimizers.SGD(lr=0.005),\n",
    "    metrics=['accuracy']\n",
    ")\n",
    "0\n",
    "# モデルの学習\n",
    "result = model.fit(\n",
    "    X_train,\n",
    "    y_train,\n",
    "    batch_size=512,\n",
    "    epochs=100,\n",
    ")"
   ]
  },
  {
   "cell_type": "code",
   "execution_count": null,
   "metadata": {},
   "outputs": [],
   "source": [
    "# モデルの保存\n",
    "model.save('./model/model_cnn.h5')"
   ]
  },
  {
   "cell_type": "code",
   "execution_count": null,
   "metadata": {},
   "outputs": [],
   "source": [
    "import numpy as np\n",
    "y_predict = np.argmax(model.predict(X_train),axis=1)"
   ]
  },
  {
   "cell_type": "code",
   "execution_count": null,
   "metadata": {},
   "outputs": [],
   "source": [
    "y_predict[:1000]"
   ]
  },
  {
   "cell_type": "code",
   "execution_count": null,
   "metadata": {},
   "outputs": [],
   "source": []
  }
 ],
 "metadata": {
  "kernelspec": {
   "display_name": "Python 3",
   "language": "python",
   "name": "python3"
  },
  "language_info": {
   "codemirror_mode": {
    "name": "ipython",
    "version": 3
   },
   "file_extension": ".py",
   "mimetype": "text/x-python",
   "name": "python",
   "nbconvert_exporter": "python",
   "pygments_lexer": "ipython3",
   "version": "3.7.1"
  }
 },
 "nbformat": 4,
 "nbformat_minor": 2
}
