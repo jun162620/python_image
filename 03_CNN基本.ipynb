{
 "cells": [
  {
   "cell_type": "markdown",
   "metadata": {},
   "source": [
    "# 畳み込みニューラルネット\n",
    "\n",
    "## 概要\n",
    "\n",
    "\n",
    "Convolutional Neural Network(畳み込みニューラルネット)は略してCNNと呼ばれる。\n",
    "\n",
    "CNNは一般的な順伝播型のニューラルネットワークとは違い、全結合層だけでなく畳み込み層(Convolution Layer)とプーリング層(Pooling Layer)から構成される\n",
    "\n",
    "## 処理の流れ\n",
    "+ **入力層**：入力ベクトル(画像など)を入力する\n",
    "+ **特徴抽出**：入力ベクトルから、そのベクトルを象徴するようなベクトルに変換する\n",
    "    + **畳み込み層**\n",
    "    + **プーリング層**\n",
    "+ **フラット層**：高次元ベクトルを1次元ベクトルに変更する\n",
    "+ **全結合層**（中間層）：通常のニューラルネット\n",
    "+ **出力層**：分類結果を出力する"
   ]
  },
  {
   "cell_type": "markdown",
   "metadata": {},
   "source": [
    "<img src=\"./images/CNN_sample.jpg\">\n",
    "\n",
    "引用：https://kenyu-life.com/2019/03/07/convolutional_neural_network/"
   ]
  },
  {
   "cell_type": "markdown",
   "metadata": {},
   "source": [
    "# 畳み込み層\n",
    "\n",
    "### 1次元(グレースケール)\n",
    "<img src=\"./images/CNN_conv.gif\">\n",
    "引用：https://kenyu-life.com/2019/03/07/convolutional_neural_network/\n",
    "\n",
    "### 3次元(RGB)\n",
    "<img src=\"./images/CNN_conv_3D.gif\">\n",
    "引用：https://kenyu-life.com/2019/03/07/convolutional_neural_network/"
   ]
  },
  {
   "cell_type": "markdown",
   "metadata": {},
   "source": [
    "### プーリング層\n",
    "\n",
    "<img src=\"./images/CNN_pooling.gif\">\n",
    "引用：https://kenyu-life.com/2019/03/07/convolutional_neural_network/"
   ]
  },
  {
   "cell_type": "code",
   "execution_count": null,
   "metadata": {},
   "outputs": [],
   "source": [
    "# CNNで扱う問題\n",
    "\n",
    "+ 分類：\n",
    "+ 検出：\n",
    "+ セグメンテーション："
   ]
  },
  {
   "cell_type": "markdown",
   "metadata": {},
   "source": [
    "# 分類\n",
    "\n",
    "画像に何が書かれているのかを判別する。\n",
    "\n",
    "MNISTという手書き文字の画像を使用していく。"
   ]
  },
  {
   "cell_type": "markdown",
   "metadata": {},
   "source": [
    "# 学習データの生成"
   ]
  },
  {
   "cell_type": "code",
   "execution_count": 14,
   "metadata": {},
   "outputs": [],
   "source": [
    "# 画像データの読み込み\n",
    "from keras.datasets import mnist\n",
    "import numpy as np\n",
    "(X_train, y_train), (X_test, y_test) = mnist.load_data()"
   ]
  },
  {
   "cell_type": "code",
   "execution_count": 15,
   "metadata": {},
   "outputs": [
    {
     "name": "stdout",
     "output_type": "stream",
     "text": [
      "(60000, 28, 28) (60000,) (10000, 28, 28) (10000,)\n"
     ]
    }
   ],
   "source": [
    "# データの形式\n",
    "print(\n",
    "    X_train.shape,\n",
    "    y_train.shape,\n",
    "    X_test.shape,\n",
    "    y_test.shape\n",
    ")"
   ]
  },
  {
   "cell_type": "markdown",
   "metadata": {},
   "source": [
    "# データ確認"
   ]
  },
  {
   "cell_type": "code",
   "execution_count": 16,
   "metadata": {
    "scrolled": true
   },
   "outputs": [
    {
     "data": {
      "text/plain": [
       "array([[  0,   0,   0,   0,   0,   0,   0,   0,   0,   0,   0,   0,   0,\n",
       "          0,   0,   0,   0,   0,   0,   0,   0,   0,   0,   0,   0,   0,\n",
       "          0,   0],\n",
       "       [  0,   0,   0,   0,   0,   0,   0,   0,   0,   0,   0,   0,   0,\n",
       "          0,   0,   0,   0,   0,   0,   0,   0,   0,   0,   0,   0,   0,\n",
       "          0,   0],\n",
       "       [  0,   0,   0,   0,   0,   0,   0,   0,   0,   0,   0,   0,   0,\n",
       "          0,   0,   0,   0,   0,   0,   0,   0,   0,   0,   0,   0,   0,\n",
       "          0,   0],\n",
       "       [  0,   0,   0,   0,   0,   0,   0,   0,   0,   0,   0,   0,   0,\n",
       "          0,   0,   0,   0,   0,   0,   0,   0,   0,   0,   0,   0,   0,\n",
       "          0,   0],\n",
       "       [  0,   0,   0,   0,   0,   0,   0,   0,   0,   0,   0,   0,   0,\n",
       "          0,   0,   0,   0,   0,   0,   0,   0,   0,   0,   0,   0,   0,\n",
       "          0,   0],\n",
       "       [  0,   0,   0,   0,   0,   0,   0,   0,   0,   0,   0,   0,   3,\n",
       "         18,  18,  18, 126, 136, 175,  26, 166, 255, 247, 127,   0,   0,\n",
       "          0,   0],\n",
       "       [  0,   0,   0,   0,   0,   0,   0,   0,  30,  36,  94, 154, 170,\n",
       "        253, 253, 253, 253, 253, 225, 172, 253, 242, 195,  64,   0,   0,\n",
       "          0,   0],\n",
       "       [  0,   0,   0,   0,   0,   0,   0,  49, 238, 253, 253, 253, 253,\n",
       "        253, 253, 253, 253, 251,  93,  82,  82,  56,  39,   0,   0,   0,\n",
       "          0,   0],\n",
       "       [  0,   0,   0,   0,   0,   0,   0,  18, 219, 253, 253, 253, 253,\n",
       "        253, 198, 182, 247, 241,   0,   0,   0,   0,   0,   0,   0,   0,\n",
       "          0,   0],\n",
       "       [  0,   0,   0,   0,   0,   0,   0,   0,  80, 156, 107, 253, 253,\n",
       "        205,  11,   0,  43, 154,   0,   0,   0,   0,   0,   0,   0,   0,\n",
       "          0,   0],\n",
       "       [  0,   0,   0,   0,   0,   0,   0,   0,   0,  14,   1, 154, 253,\n",
       "         90,   0,   0,   0,   0,   0,   0,   0,   0,   0,   0,   0,   0,\n",
       "          0,   0],\n",
       "       [  0,   0,   0,   0,   0,   0,   0,   0,   0,   0,   0, 139, 253,\n",
       "        190,   2,   0,   0,   0,   0,   0,   0,   0,   0,   0,   0,   0,\n",
       "          0,   0],\n",
       "       [  0,   0,   0,   0,   0,   0,   0,   0,   0,   0,   0,  11, 190,\n",
       "        253,  70,   0,   0,   0,   0,   0,   0,   0,   0,   0,   0,   0,\n",
       "          0,   0],\n",
       "       [  0,   0,   0,   0,   0,   0,   0,   0,   0,   0,   0,   0,  35,\n",
       "        241, 225, 160, 108,   1,   0,   0,   0,   0,   0,   0,   0,   0,\n",
       "          0,   0],\n",
       "       [  0,   0,   0,   0,   0,   0,   0,   0,   0,   0,   0,   0,   0,\n",
       "         81, 240, 253, 253, 119,  25,   0,   0,   0,   0,   0,   0,   0,\n",
       "          0,   0],\n",
       "       [  0,   0,   0,   0,   0,   0,   0,   0,   0,   0,   0,   0,   0,\n",
       "          0,  45, 186, 253, 253, 150,  27,   0,   0,   0,   0,   0,   0,\n",
       "          0,   0],\n",
       "       [  0,   0,   0,   0,   0,   0,   0,   0,   0,   0,   0,   0,   0,\n",
       "          0,   0,  16,  93, 252, 253, 187,   0,   0,   0,   0,   0,   0,\n",
       "          0,   0],\n",
       "       [  0,   0,   0,   0,   0,   0,   0,   0,   0,   0,   0,   0,   0,\n",
       "          0,   0,   0,   0, 249, 253, 249,  64,   0,   0,   0,   0,   0,\n",
       "          0,   0],\n",
       "       [  0,   0,   0,   0,   0,   0,   0,   0,   0,   0,   0,   0,   0,\n",
       "          0,  46, 130, 183, 253, 253, 207,   2,   0,   0,   0,   0,   0,\n",
       "          0,   0],\n",
       "       [  0,   0,   0,   0,   0,   0,   0,   0,   0,   0,   0,   0,  39,\n",
       "        148, 229, 253, 253, 253, 250, 182,   0,   0,   0,   0,   0,   0,\n",
       "          0,   0],\n",
       "       [  0,   0,   0,   0,   0,   0,   0,   0,   0,   0,  24, 114, 221,\n",
       "        253, 253, 253, 253, 201,  78,   0,   0,   0,   0,   0,   0,   0,\n",
       "          0,   0],\n",
       "       [  0,   0,   0,   0,   0,   0,   0,   0,  23,  66, 213, 253, 253,\n",
       "        253, 253, 198,  81,   2,   0,   0,   0,   0,   0,   0,   0,   0,\n",
       "          0,   0],\n",
       "       [  0,   0,   0,   0,   0,   0,  18, 171, 219, 253, 253, 253, 253,\n",
       "        195,  80,   9,   0,   0,   0,   0,   0,   0,   0,   0,   0,   0,\n",
       "          0,   0],\n",
       "       [  0,   0,   0,   0,  55, 172, 226, 253, 253, 253, 253, 244, 133,\n",
       "         11,   0,   0,   0,   0,   0,   0,   0,   0,   0,   0,   0,   0,\n",
       "          0,   0],\n",
       "       [  0,   0,   0,   0, 136, 253, 253, 253, 212, 135, 132,  16,   0,\n",
       "          0,   0,   0,   0,   0,   0,   0,   0,   0,   0,   0,   0,   0,\n",
       "          0,   0],\n",
       "       [  0,   0,   0,   0,   0,   0,   0,   0,   0,   0,   0,   0,   0,\n",
       "          0,   0,   0,   0,   0,   0,   0,   0,   0,   0,   0,   0,   0,\n",
       "          0,   0],\n",
       "       [  0,   0,   0,   0,   0,   0,   0,   0,   0,   0,   0,   0,   0,\n",
       "          0,   0,   0,   0,   0,   0,   0,   0,   0,   0,   0,   0,   0,\n",
       "          0,   0],\n",
       "       [  0,   0,   0,   0,   0,   0,   0,   0,   0,   0,   0,   0,   0,\n",
       "          0,   0,   0,   0,   0,   0,   0,   0,   0,   0,   0,   0,   0,\n",
       "          0,   0]], dtype=uint8)"
      ]
     },
     "execution_count": 16,
     "metadata": {},
     "output_type": "execute_result"
    }
   ],
   "source": [
    "# 画像データ\n",
    "X_train[0]"
   ]
  },
  {
   "cell_type": "code",
   "execution_count": 17,
   "metadata": {},
   "outputs": [
    {
     "data": {
      "text/plain": [
       "<matplotlib.image.AxesImage at 0x19ec81c78d0>"
      ]
     },
     "execution_count": 17,
     "metadata": {},
     "output_type": "execute_result"
    },
    {
     "data": {
      "image/png": "[encoded data removed]",
      "text/plain": [
       "<Figure size 432x288 with 1 Axes>"
      ]
     },
     "metadata": {
      "needs_background": "light"
     },
     "output_type": "display_data"
    }
   ],
   "source": [
    "import matplotlib.pyplot as plt\n",
    "%matplotlib inline\n",
    "plt.imshow(X_train[0],cmap=\"gray\")"
   ]
  },
  {
   "cell_type": "code",
   "execution_count": 18,
   "metadata": {},
   "outputs": [
    {
     "data": {
      "text/plain": [
       "5"
      ]
     },
     "execution_count": 18,
     "metadata": {},
     "output_type": "execute_result"
    }
   ],
   "source": [
    "# 正解ラベル\n",
    "y_train[0]"
   ]
  },
  {
   "cell_type": "markdown",
   "metadata": {},
   "source": [
    "# データが大きいので少なくする"
   ]
  },
  {
   "cell_type": "code",
   "execution_count": 19,
   "metadata": {},
   "outputs": [],
   "source": [
    "# 計算に時間がかかるため、データ量を制限する\n",
    "X_train = X_train[:15000]/255\n",
    "X_test = X_test[:2500]/255\n",
    "y_train = y_train[:15000]\n",
    "y_test = y_test[:2500]"
   ]
  },
  {
   "cell_type": "code",
   "execution_count": 21,
   "metadata": {},
   "outputs": [],
   "source": [
    "# CNNに使用するためにデータを変形(グレースケール)\n",
    "X_train = X_train.reshape(X_train.shape[0], 28, 28, 1)\n",
    "X_test = X_test.reshape(X_test.shape[0], 28, 28, 1)"
   ]
  },
  {
   "cell_type": "code",
   "execution_count": 22,
   "metadata": {},
   "outputs": [],
   "source": [
    "# ベクトルからone hotに変換する\n",
    "import keras\n",
    "y_train = keras.utils.to_categorical(y_train,10)\n",
    "y_test = keras.utils.to_categorical(y_test,10)"
   ]
  },
  {
   "cell_type": "markdown",
   "metadata": {},
   "source": [
    "# モデル作成"
   ]
  },
  {
   "cell_type": "code",
   "execution_count": 23,
   "metadata": {},
   "outputs": [],
   "source": [
    "# 必要なライブラリのインポート\n",
    "from keras.models import Sequential\n",
    "from keras.layers import Dense, Dropout, Flatten\n",
    "from keras.layers import Conv2D, MaxPooling2D\n",
    "from keras import optimizers"
   ]
  },
  {
   "cell_type": "code",
   "execution_count": 24,
   "metadata": {},
   "outputs": [],
   "source": [
    "# 基本モデル作成\n",
    "model = Sequential()\n",
    "\n",
    "# 3×3の畳み込み層の追加\n",
    "model.add(\n",
    "    Conv2D(\n",
    "        filters=32,\n",
    "        kernel_size=(3, 3),\n",
    "        activation='relu',\n",
    "    )\n",
    ")\n",
    "\n",
    "# 2×2のmaxプーリング層追加\n",
    "model.add(\n",
    "    MaxPooling2D(\n",
    "        pool_size=(2, 2)\n",
    "    )\n",
    ")\n",
    "\n",
    "# ドロップアウト層の追加\n",
    "model.add(\n",
    "    Dropout(0.2)\n",
    ")\n",
    "\n",
    "# フラット層の追加\n",
    "model.add(\n",
    "    Flatten()\n",
    ")\n",
    "\n",
    "# 全結合層の追加\n",
    "model.add(\n",
    "    Dense(\n",
    "        128, \n",
    "        activation='relu'\n",
    "    )\n",
    ")\n",
    "\n",
    "# ドロップアウト層の追加\n",
    "model.add(\n",
    "    Dropout(0.2)\n",
    ")\n",
    "\n",
    "# 出力層\n",
    "model.add(\n",
    "    Dense(\n",
    "        10, \n",
    "        activation='softmax'\n",
    "    )\n",
    ")"
   ]
  },
  {
   "cell_type": "markdown",
   "metadata": {},
   "source": [
    "# モデルの学習"
   ]
  },
  {
   "cell_type": "code",
   "execution_count": 25,
   "metadata": {},
   "outputs": [],
   "source": [
    "# モデルの学習設定\n",
    "model.compile(\n",
    "    loss=keras.losses.categorical_crossentropy,\n",
    "    optimizer=optimizers.SGD(lr=0.01),\n",
    "    metrics=['accuracy']\n",
    ")"
   ]
  },
  {
   "cell_type": "code",
   "execution_count": 26,
   "metadata": {
    "scrolled": true
   },
   "outputs": [
    {
     "name": "stdout",
     "output_type": "stream",
     "text": [
      "Epoch 1/10\n",
      "15000/15000 [==============================] - 6s 381us/step - loss: 2.2506 - accuracy: 0.2127\n",
      "Epoch 2/10\n",
      "15000/15000 [==============================] - 6s 373us/step - loss: 1.9962 - accuracy: 0.5121\n",
      "Epoch 3/10\n",
      "15000/15000 [==============================] - 6s 374us/step - loss: 1.4453 - accuracy: 0.6709\n",
      "Epoch 4/10\n",
      "15000/15000 [==============================] - 6s 375us/step - loss: 0.9557 - accuracy: 0.7531\n",
      "Epoch 5/10\n",
      "15000/15000 [==============================] - 6s 375us/step - loss: 0.7376 - accuracy: 0.7921\n",
      "Epoch 6/10\n",
      "15000/15000 [==============================] - 6s 374us/step - loss: 0.6237 - accuracy: 0.8165\n",
      "Epoch 7/10\n",
      "15000/15000 [==============================] - 6s 381us/step - loss: 0.5554 - accuracy: 0.8365\n",
      "Epoch 8/10\n",
      "15000/15000 [==============================] - 6s 377us/step - loss: 0.5155 - accuracy: 0.8483\n",
      "Epoch 9/10\n",
      "15000/15000 [==============================] - 6s 393us/step - loss: 0.4849 - accuracy: 0.8566\n",
      "Epoch 10/10\n",
      "15000/15000 [==============================] - 6s 389us/step - loss: 0.4636 - accuracy: 0.8602\n"
     ]
    }
   ],
   "source": [
    "# モデルの学習\n",
    "result = model.fit(\n",
    "    X_train,\n",
    "    y_train,\n",
    "    batch_size=256,\n",
    "    epochs=10,\n",
    ")"
   ]
  },
  {
   "cell_type": "code",
   "execution_count": 27,
   "metadata": {},
   "outputs": [
    {
     "name": "stdout",
     "output_type": "stream",
     "text": [
      "[0.4656474244117737, 0.868399977684021]\n"
     ]
    }
   ],
   "source": [
    "# モデル結果の出力\n",
    "score = model.evaluate(X_test, y_test, verbose=0)\n",
    "print(score)"
   ]
  },
  {
   "cell_type": "markdown",
   "metadata": {},
   "source": [
    "# 学習済みモデルの適用（転移学習）\n",
    "\n",
    "kerasには、すでに学習が済んでいるニューラルネットワークモデルを流用することができる。転移学習といいます。\n",
    "\n",
    "同じような手法に、fine tuningというものがありますが、こちらは、学習済みモデルの重みを初期値にして、重みのみ再学習するという手法を取ります。\n",
    "\n",
    "転移学習は、学習済みモデルに、層を追加して、その層について学習します。"
   ]
  },
  {
   "cell_type": "code",
   "execution_count": 14,
   "metadata": {},
   "outputs": [
    {
     "name": "stdout",
     "output_type": "stream",
     "text": [
      "(50000, 32, 32, 3) (50000, 1) (10000, 32, 32, 3) (10000, 1)\n"
     ]
    },
    {
     "data": {
      "text/plain": [
       "<matplotlib.image.AxesImage at 0x191f4520da0>"
      ]
     },
     "execution_count": 14,
     "metadata": {},
     "output_type": "execute_result"
    },
    {
     "data": {
      "image/png": "[encoded data removed]",
      "text/plain": [
       "<Figure size 432x288 with 1 Axes>"
      ]
     },
     "metadata": {
      "needs_background": "light"
     },
     "output_type": "display_data"
    }
   ],
   "source": [
    "from keras.datasets import cifar10\n",
    "(X_train, y_train), (X_test, y_test) = cifar10.load_data()\n",
    "\n",
    "# データの形式\n",
    "print(\n",
    "    X_train.shape,\n",
    "    y_train.shape,\n",
    "    X_test.shape,\n",
    "    y_test.shape\n",
    ")\n",
    "\n",
    "import matplotlib.pyplot as plt\n",
    "%matplotlib inline\n",
    "plt.imshow(X_train[0])"
   ]
  },
  {
   "cell_type": "code",
   "execution_count": 15,
   "metadata": {},
   "outputs": [],
   "source": [
    "# 計算に時間がかかるため、データ量を制限する\n",
    "X_train = X_train[:25000]\n",
    "X_test = X_test[:2500]\n",
    "y_train = y_train[:25000]\n",
    "y_test = y_test[:2500]"
   ]
  },
  {
   "cell_type": "code",
   "execution_count": 16,
   "metadata": {},
   "outputs": [],
   "source": [
    "# ベクトルからone hotに変換する\n",
    "y_train = keras.utils.to_categorical(y_train,10)\n",
    "y_test = keras.utils.to_categorical(y_test,10)"
   ]
  },
  {
   "cell_type": "code",
   "execution_count": 17,
   "metadata": {},
   "outputs": [
    {
     "name": "stdout",
     "output_type": "stream",
     "text": [
      "Epoch 1/100\n",
      "25000/25000 [==============================] - 669s 27ms/step - loss: 4.2740 - accuracy: 0.1043\n",
      "Epoch 2/100\n",
      "25000/25000 [==============================] - 655s 26ms/step - loss: 2.3013 - accuracy: 0.1063\n",
      "Epoch 3/100\n",
      "25000/25000 [==============================] - 656s 26ms/step - loss: 2.3001 - accuracy: 0.1042\n",
      "Epoch 4/100\n",
      "25000/25000 [==============================] - 657s 26ms/step - loss: 2.3022 - accuracy: 0.1006\n",
      "Epoch 5/100\n",
      "25000/25000 [==============================] - 648s 26ms/step - loss: 2.3017 - accuracy: 0.1047\n",
      "Epoch 6/100\n",
      "25000/25000 [==============================] - 657s 26ms/step - loss: 2.2988 - accuracy: 0.1088\n",
      "Epoch 7/100\n",
      "25000/25000 [==============================] - 657s 26ms/step - loss: 2.3000 - accuracy: 0.1064\n",
      "Epoch 8/100\n",
      "25000/25000 [==============================] - 656s 26ms/step - loss: 2.2971 - accuracy: 0.1102\n",
      "Epoch 9/100\n",
      "25000/25000 [==============================] - 657s 26ms/step - loss: 2.2907 - accuracy: 0.1192\n",
      "Epoch 10/100\n",
      "25000/25000 [==============================] - 655s 26ms/step - loss: 2.2855 - accuracy: 0.1224\n",
      "Epoch 11/100\n",
      "25000/25000 [==============================] - 656s 26ms/step - loss: 2.2624 - accuracy: 0.1470\n",
      "Epoch 12/100\n",
      "25000/25000 [==============================] - 657s 26ms/step - loss: 2.2526 - accuracy: 0.1594\n",
      "Epoch 13/100\n",
      "25000/25000 [==============================] - 658s 26ms/step - loss: 2.2074 - accuracy: 0.2070\n",
      "Epoch 14/100\n",
      "25000/25000 [==============================] - 658s 26ms/step - loss: 2.1113 - accuracy: 0.2678\n",
      "Epoch 15/100\n",
      "25000/25000 [==============================] - 653s 26ms/step - loss: 1.9641 - accuracy: 0.3468\n",
      "Epoch 16/100\n",
      "25000/25000 [==============================] - 659s 26ms/step - loss: 1.7415 - accuracy: 0.4582\n",
      "Epoch 17/100\n",
      "25000/25000 [==============================] - 657s 26ms/step - loss: 1.5740 - accuracy: 0.5236\n",
      "Epoch 18/100\n",
      "25000/25000 [==============================] - 664s 27ms/step - loss: 1.4457 - accuracy: 0.5668\n",
      "Epoch 19/100\n",
      "25000/25000 [==============================] - 657s 26ms/step - loss: 1.3503 - accuracy: 0.6015\n",
      "Epoch 20/100\n",
      "25000/25000 [==============================] - 659s 26ms/step - loss: 1.2733 - accuracy: 0.6254\n",
      "Epoch 21/100\n",
      "25000/25000 [==============================] - 659s 26ms/step - loss: 1.1920 - accuracy: 0.6517\n",
      "Epoch 22/100\n",
      "25000/25000 [==============================] - 659s 26ms/step - loss: 1.1058 - accuracy: 0.6782\n",
      "Epoch 23/100\n",
      "25000/25000 [==============================] - 657s 26ms/step - loss: 1.0777 - accuracy: 0.6826\n",
      "Epoch 24/100\n",
      "25000/25000 [==============================] - 658s 26ms/step - loss: 1.0278 - accuracy: 0.7058\n",
      "Epoch 25/100\n",
      "25000/25000 [==============================] - 659s 26ms/step - loss: 0.9729 - accuracy: 0.7177\n",
      "Epoch 26/100\n",
      "25000/25000 [==============================] - 658s 26ms/step - loss: 0.9122 - accuracy: 0.7376\n",
      "Epoch 27/100\n",
      "25000/25000 [==============================] - 657s 26ms/step - loss: 0.8734 - accuracy: 0.7492\n",
      "Epoch 28/100\n",
      "25000/25000 [==============================] - 660s 26ms/step - loss: 0.8519 - accuracy: 0.7556\n",
      "Epoch 29/100\n",
      "25000/25000 [==============================] - 660s 26ms/step - loss: 0.8034 - accuracy: 0.7694\n",
      "Epoch 30/100\n",
      "25000/25000 [==============================] - 661s 26ms/step - loss: 0.7794 - accuracy: 0.7746\n",
      "Epoch 31/100\n",
      "25000/25000 [==============================] - 660s 26ms/step - loss: 0.7581 - accuracy: 0.7814\n",
      "Epoch 32/100\n",
      "25000/25000 [==============================] - 660s 26ms/step - loss: 0.6990 - accuracy: 0.7872\n",
      "Epoch 33/100\n",
      "25000/25000 [==============================] - 661s 26ms/step - loss: 0.6483 - accuracy: 0.7947\n",
      "Epoch 34/100\n",
      "25000/25000 [==============================] - 660s 26ms/step - loss: 0.5676 - accuracy: 0.8215\n",
      "Epoch 35/100\n",
      "25000/25000 [==============================] - 660s 26ms/step - loss: 0.5250 - accuracy: 0.8326\n",
      "Epoch 36/100\n",
      "25000/25000 [==============================] - 666s 27ms/step - loss: 0.4850 - accuracy: 0.8470\n",
      "Epoch 37/100\n",
      "25000/25000 [==============================] - 661s 26ms/step - loss: 0.4425 - accuracy: 0.8594\n",
      "Epoch 38/100\n",
      "25000/25000 [==============================] - 660s 26ms/step - loss: 0.4326 - accuracy: 0.8637\n",
      "Epoch 39/100\n",
      "25000/25000 [==============================] - 660s 26ms/step - loss: 0.3797 - accuracy: 0.8833\n",
      "Epoch 40/100\n",
      "25000/25000 [==============================] - 661s 26ms/step - loss: 0.3663 - accuracy: 0.8846\n",
      "Epoch 41/100\n",
      "25000/25000 [==============================] - 660s 26ms/step - loss: 0.3682 - accuracy: 0.8826\n",
      "Epoch 42/100\n",
      "25000/25000 [==============================] - 661s 26ms/step - loss: 0.3068 - accuracy: 0.9047\n",
      "Epoch 43/100\n",
      "25000/25000 [==============================] - 659s 26ms/step - loss: 0.2945 - accuracy: 0.9099\n",
      "Epoch 44/100\n",
      "25000/25000 [==============================] - 659s 26ms/step - loss: 0.3753 - accuracy: 0.8879\n",
      "Epoch 45/100\n",
      "25000/25000 [==============================] - 663s 27ms/step - loss: 0.2664 - accuracy: 0.9172\n",
      "Epoch 46/100\n",
      "25000/25000 [==============================] - 661s 26ms/step - loss: 0.2325 - accuracy: 0.9292\n",
      "Epoch 47/100\n",
      "25000/25000 [==============================] - 659s 26ms/step - loss: 0.2163 - accuracy: 0.9346\n",
      "Epoch 48/100\n",
      "25000/25000 [==============================] - 663s 27ms/step - loss: 0.1898 - accuracy: 0.9438\n",
      "Epoch 49/100\n",
      "25000/25000 [==============================] - 660s 26ms/step - loss: 0.1726 - accuracy: 0.9480\n",
      "Epoch 50/100\n",
      "25000/25000 [==============================] - 659s 26ms/step - loss: 0.1613 - accuracy: 0.9512\n",
      "Epoch 51/100\n",
      "25000/25000 [==============================] - 663s 27ms/step - loss: 0.1704 - accuracy: 0.9496\n",
      "Epoch 52/100\n",
      "25000/25000 [==============================] - 654s 26ms/step - loss: 0.2353 - accuracy: 0.9309\n",
      "Epoch 53/100\n",
      "25000/25000 [==============================] - 651s 26ms/step - loss: 0.1256 - accuracy: 0.9641\n",
      "Epoch 54/100\n",
      "25000/25000 [==============================] - 654s 26ms/step - loss: 0.1149 - accuracy: 0.9659\n",
      "Epoch 55/100\n",
      "25000/25000 [==============================] - 653s 26ms/step - loss: 0.1044 - accuracy: 0.9707\n",
      "Epoch 56/100\n",
      "25000/25000 [==============================] - 654s 26ms/step - loss: 0.0987 - accuracy: 0.9722\n",
      "Epoch 57/100\n",
      "25000/25000 [==============================] - 653s 26ms/step - loss: 0.0926 - accuracy: 0.9733\n",
      "Epoch 58/100\n",
      "25000/25000 [==============================] - 653s 26ms/step - loss: 0.0895 - accuracy: 0.9730\n",
      "Epoch 59/100\n",
      "25000/25000 [==============================] - 652s 26ms/step - loss: 0.0850 - accuracy: 0.9762\n",
      "Epoch 60/100\n",
      "25000/25000 [==============================] - 652s 26ms/step - loss: 0.0783 - accuracy: 0.9768\n",
      "Epoch 61/100\n",
      "25000/25000 [==============================] - 653s 26ms/step - loss: 0.0748 - accuracy: 0.9782\n",
      "Epoch 62/100\n",
      "25000/25000 [==============================] - 654s 26ms/step - loss: 0.0735 - accuracy: 0.9782\n",
      "Epoch 63/100\n",
      "25000/25000 [==============================] - 657s 26ms/step - loss: 0.0711 - accuracy: 0.9788\n",
      "Epoch 64/100\n",
      "25000/25000 [==============================] - 724s 29ms/step - loss: 2.0828 - accuracy: 0.4625\n",
      "Epoch 65/100\n",
      "25000/25000 [==============================] - 649s 26ms/step - loss: 0.8714 - accuracy: 0.7306\n",
      "Epoch 66/100\n",
      "25000/25000 [==============================] - 659s 26ms/step - loss: 0.6073 - accuracy: 0.8211\n",
      "Epoch 67/100\n",
      "25000/25000 [==============================] - 643s 26ms/step - loss: 0.4117 - accuracy: 0.8729\n",
      "Epoch 68/100\n",
      "25000/25000 [==============================] - 642s 26ms/step - loss: 0.2892 - accuracy: 0.9095\n",
      "Epoch 69/100\n",
      "25000/25000 [==============================] - 643s 26ms/step - loss: 0.1963 - accuracy: 0.9431\n",
      "Epoch 70/100\n",
      "25000/25000 [==============================] - 645s 26ms/step - loss: 0.1739 - accuracy: 0.9482\n",
      "Epoch 71/100\n",
      "25000/25000 [==============================] - 642s 26ms/step - loss: 0.1887 - accuracy: 0.9468\n",
      "Epoch 72/100\n",
      "25000/25000 [==============================] - 644s 26ms/step - loss: 0.1242 - accuracy: 0.9646\n",
      "Epoch 73/100\n",
      "25000/25000 [==============================] - 649s 26ms/step - loss: 0.1049 - accuracy: 0.9716\n",
      "Epoch 74/100\n",
      "25000/25000 [==============================] - 649s 26ms/step - loss: 0.0909 - accuracy: 0.9758\n",
      "Epoch 75/100\n",
      "25000/25000 [==============================] - 647s 26ms/step - loss: 0.0831 - accuracy: 0.9769\n",
      "Epoch 76/100\n",
      "25000/25000 [==============================] - 648s 26ms/step - loss: 0.0759 - accuracy: 0.9780\n",
      "Epoch 77/100\n",
      "25000/25000 [==============================] - 664s 27ms/step - loss: 0.0707 - accuracy: 0.9800\n",
      "Epoch 78/100\n",
      "25000/25000 [==============================] - 668s 27ms/step - loss: 0.0675 - accuracy: 0.9812\n",
      "Epoch 79/100\n",
      "25000/25000 [==============================] - 668s 27ms/step - loss: 0.0630 - accuracy: 0.9822\n",
      "Epoch 80/100\n",
      "25000/25000 [==============================] - 668s 27ms/step - loss: 0.0588 - accuracy: 0.9822\n",
      "Epoch 81/100\n",
      "25000/25000 [==============================] - 671s 27ms/step - loss: 0.0558 - accuracy: 0.9837\n",
      "Epoch 82/100\n",
      "25000/25000 [==============================] - 669s 27ms/step - loss: 0.0539 - accuracy: 0.9841\n",
      "Epoch 83/100\n",
      "25000/25000 [==============================] - 668s 27ms/step - loss: 0.0509 - accuracy: 0.9851\n",
      "Epoch 84/100\n",
      "25000/25000 [==============================] - 670s 27ms/step - loss: 0.0493 - accuracy: 0.9853\n",
      "Epoch 85/100\n",
      "25000/25000 [==============================] - 667s 27ms/step - loss: 0.0478 - accuracy: 0.9855\n",
      "Epoch 86/100\n",
      "25000/25000 [==============================] - 669s 27ms/step - loss: 0.0464 - accuracy: 0.9859\n",
      "Epoch 87/100\n",
      "25000/25000 [==============================] - 669s 27ms/step - loss: 0.0453 - accuracy: 0.9863\n",
      "Epoch 88/100\n",
      "25000/25000 [==============================] - 669s 27ms/step - loss: 0.0441 - accuracy: 0.9864\n",
      "Epoch 89/100\n",
      "25000/25000 [==============================] - 670s 27ms/step - loss: 0.0436 - accuracy: 0.9867\n",
      "Epoch 90/100\n",
      "25000/25000 [==============================] - 670s 27ms/step - loss: 0.0420 - accuracy: 0.9871\n",
      "Epoch 91/100\n",
      "25000/25000 [==============================] - 669s 27ms/step - loss: 0.0408 - accuracy: 0.9875\n",
      "Epoch 92/100\n",
      "25000/25000 [==============================] - 668s 27ms/step - loss: 0.0404 - accuracy: 0.9872\n",
      "Epoch 93/100\n",
      "25000/25000 [==============================] - 667s 27ms/step - loss: 0.0389 - accuracy: 0.9880\n",
      "Epoch 94/100\n",
      "25000/25000 [==============================] - 668s 27ms/step - loss: 0.0391 - accuracy: 0.9880\n",
      "Epoch 95/100\n",
      "25000/25000 [==============================] - 653s 26ms/step - loss: 0.0375 - accuracy: 0.9885\n",
      "Epoch 96/100\n",
      "25000/25000 [==============================] - 646s 26ms/step - loss: 0.0369 - accuracy: 0.9886\n",
      "Epoch 97/100\n",
      "25000/25000 [==============================] - 645s 26ms/step - loss: 0.0359 - accuracy: 0.9892\n",
      "Epoch 98/100\n",
      "25000/25000 [==============================] - 644s 26ms/step - loss: 0.0350 - accuracy: 0.9890\n",
      "Epoch 99/100\n",
      "25000/25000 [==============================] - 645s 26ms/step - loss: 0.0367 - accuracy: 0.9884\n",
      "Epoch 100/100\n",
      "25000/25000 [==============================] - 644s 26ms/step - loss: 0.0353 - accuracy: 0.9890\n"
     ]
    }
   ],
   "source": [
    "from keras.applications.vgg16 import VGG16\n",
    "from keras import models\n",
    "from keras import layers\n",
    "\n",
    "# VGG16モデル\n",
    "img_rows = 32\n",
    "img_cols = 32\n",
    "input_tensor = layers.Input(shape=(img_rows, img_cols, 3))\n",
    "vgg16 = VGG16(include_top=False, weights='imagenet', input_tensor=input_tensor)\n",
    "\n",
    "# 全結合層は自己学習モデル\n",
    "model_ = Sequential()\n",
    "model_.add(Flatten(input_shape=vgg16.output_shape[1:]))\n",
    "model_.add(Dense(256, activation='relu'))\n",
    "model_.add(Dropout(0.5))\n",
    "model_.add(Dense(10, activation='softmax'))\n",
    "\n",
    "# VGG16モデルと自己学習モデルの結合\n",
    "model = models.Model(inputs=vgg16.input, outputs=model_(vgg16.output))\n",
    "\n",
    "# modelの14層目までのモデル重み\n",
    "for layer in model.layers[:15]:\n",
    "    layer.trainable = False\n",
    "\n",
    "# モデルの学習設定\n",
    "model.compile(\n",
    "    loss='categorical_crossentropy',\n",
    "    optimizer=optimizers.SGD(lr=0.005),\n",
    "    metrics=['accuracy']\n",
    ")\n",
    "0\n",
    "# モデルの学習\n",
    "result = model.fit(\n",
    "    X_train,\n",
    "    y_train,\n",
    "    batch_size=512,\n",
    "    epochs=100,\n",
    ")"
   ]
  },
  {
   "cell_type": "code",
   "execution_count": 18,
   "metadata": {},
   "outputs": [],
   "source": [
    "# モデルの保存\n",
    "model.save('./model/model_cnn.h5')"
   ]
  },
  {
   "cell_type": "code",
   "execution_count": 52,
   "metadata": {},
   "outputs": [],
   "source": [
    "# テストデータへの適用\n",
    "import numpy as np\n",
    "y_predict = np.argmax(model.predict(X_test),axis=1)"
   ]
  },
  {
   "cell_type": "code",
   "execution_count": 63,
   "metadata": {},
   "outputs": [
    {
     "name": "stdout",
     "output_type": "stream",
     "text": [
      "0.7228\n"
     ]
    }
   ],
   "source": [
    "# 正答率の算出\n",
    "y_test = np.argmax(y_test,axis=1)\n",
    "acc=np.sum(y_test==y_predict)/len(y_test)\n",
    "print(acc)"
   ]
  },
  {
   "cell_type": "markdown",
   "metadata": {},
   "source": [
    "# 転移学習を行わなかった場合"
   ]
  },
  {
   "cell_type": "code",
   "execution_count": 64,
   "metadata": {},
   "outputs": [],
   "source": [
    "# データ読み込み\n",
    "from keras.datasets import cifar10\n",
    "(X_train, y_train), (X_test, y_test) = cifar10.load_data()\n",
    "\n",
    "# 計算に時間がかかるため、データ量を制限する\n",
    "X_train = X_train[:25000]\n",
    "X_test = X_test[:2500]\n",
    "y_train = y_train[:25000]\n",
    "y_test = y_test[:2500]\n",
    "\n",
    "# ベクトルからone hotに変換する\n",
    "y_train = keras.utils.to_categorical(y_train,10)\n",
    "y_test = keras.utils.to_categorical(y_test,10)"
   ]
  },
  {
   "cell_type": "code",
   "execution_count": 65,
   "metadata": {},
   "outputs": [],
   "source": [
    "# 基本モデル作成\n",
    "model = Sequential()\n",
    "\n",
    "# 3×3の畳み込み層の追加\n",
    "model.add(\n",
    "    Conv2D(\n",
    "        filters=32,\n",
    "        kernel_size=(3, 3),\n",
    "        activation='relu',\n",
    "    )\n",
    ")\n",
    "\n",
    "# 2×2のmaxプーリング層追加\n",
    "model.add(\n",
    "    MaxPooling2D(\n",
    "        pool_size=(2, 2)\n",
    "    )\n",
    ")\n",
    "\n",
    "# ドロップアウト層の追加\n",
    "model.add(\n",
    "    Dropout(0.2)\n",
    ")\n",
    "\n",
    "# フラット層の追加\n",
    "model.add(\n",
    "    Flatten()\n",
    ")\n",
    "\n",
    "# 全結合層の追加\n",
    "model.add(\n",
    "    Dense(\n",
    "        128, \n",
    "        activation='relu'\n",
    "    )\n",
    ")\n",
    "\n",
    "# ドロップアウト層の追加\n",
    "model.add(\n",
    "    Dropout(0.2)\n",
    ")\n",
    "\n",
    "# 出力層\n",
    "model.add(\n",
    "    Dense(\n",
    "        10, \n",
    "        activation='softmax'\n",
    "    )\n",
    ")"
   ]
  },
  {
   "cell_type": "code",
   "execution_count": 66,
   "metadata": {},
   "outputs": [],
   "source": [
    "# モデルの学習設定\n",
    "model.compile(\n",
    "    loss=keras.losses.categorical_crossentropy,\n",
    "    optimizer=optimizers.SGD(lr=0.01),\n",
    "    metrics=['accuracy']\n",
    ")"
   ]
  },
  {
   "cell_type": "code",
   "execution_count": 68,
   "metadata": {
    "scrolled": true
   },
   "outputs": [
    {
     "name": "stdout",
     "output_type": "stream",
     "text": [
      "Epoch 1/100\n",
      "25000/25000 [==============================] - 15s 592us/step - loss: 2.3053 - accuracy: 0.1013\n",
      "Epoch 2/100\n",
      "25000/25000 [==============================] - 14s 557us/step - loss: 2.3029 - accuracy: 0.0973\n",
      "Epoch 3/100\n",
      "25000/25000 [==============================] - 13s 523us/step - loss: 2.3028 - accuracy: 0.1001\n",
      "Epoch 4/100\n",
      "25000/25000 [==============================] - 13s 531us/step - loss: 2.3027 - accuracy: 0.1002\n",
      "Epoch 5/100\n",
      "25000/25000 [==============================] - 13s 532us/step - loss: 2.3024 - accuracy: 0.1013\n",
      "Epoch 6/100\n",
      "25000/25000 [==============================] - 14s 564us/step - loss: 2.3024 - accuracy: 0.1012\n",
      "Epoch 7/100\n",
      "25000/25000 [==============================] - 13s 529us/step - loss: 2.3021 - accuracy: 0.1019\n",
      "Epoch 8/100\n",
      "25000/25000 [==============================] - 13s 531us/step - loss: 2.3021 - accuracy: 0.1018\n",
      "Epoch 9/100\n",
      "25000/25000 [==============================] - 13s 533us/step - loss: 2.3020 - accuracy: 0.1020\n",
      "Epoch 10/100\n",
      "25000/25000 [==============================] - 13s 530us/step - loss: 2.3022 - accuracy: 0.1013\n",
      "Epoch 11/100\n",
      "25000/25000 [==============================] - 13s 530us/step - loss: 2.3019 - accuracy: 0.1000\n",
      "Epoch 12/100\n",
      "25000/25000 [==============================] - 13s 531us/step - loss: 2.3019 - accuracy: 0.1034\n",
      "Epoch 13/100\n",
      "25000/25000 [==============================] - 14s 575us/step - loss: 2.3019 - accuracy: 0.1029\n",
      "Epoch 14/100\n",
      "25000/25000 [==============================] - 13s 515us/step - loss: 2.3013 - accuracy: 0.1018\n",
      "Epoch 15/100\n",
      "25000/25000 [==============================] - 17s 665us/step - loss: 2.3011 - accuracy: 0.1033\n",
      "Epoch 16/100\n",
      "25000/25000 [==============================] - 15s 602us/step - loss: 2.3007 - accuracy: 0.1054\n",
      "Epoch 17/100\n",
      "25000/25000 [==============================] - 16s 635us/step - loss: 2.3004 - accuracy: 0.1033\n",
      "Epoch 18/100\n",
      "25000/25000 [==============================] - 16s 636us/step - loss: 2.2994 - accuracy: 0.1072\n",
      "Epoch 19/100\n",
      "25000/25000 [==============================] - 16s 638us/step - loss: 2.2975 - accuracy: 0.1072\n",
      "Epoch 20/100\n",
      "25000/25000 [==============================] - 17s 667us/step - loss: 2.2948 - accuracy: 0.1119\n",
      "Epoch 21/100\n",
      "25000/25000 [==============================] - 14s 563us/step - loss: 2.3026 - accuracy: 0.1039\n",
      "Epoch 22/100\n",
      "25000/25000 [==============================] - 18s 706us/step - loss: 2.3020 - accuracy: 0.1034\n",
      "Epoch 23/100\n",
      "25000/25000 [==============================] - 15s 593us/step - loss: 2.3019 - accuracy: 0.1006\n",
      "Epoch 24/100\n",
      "25000/25000 [==============================] - 13s 507us/step - loss: 2.3011 - accuracy: 0.1038\n",
      "Epoch 25/100\n",
      "25000/25000 [==============================] - 13s 510us/step - loss: 2.2966 - accuracy: 0.1106\n",
      "Epoch 26/100\n",
      "25000/25000 [==============================] - 13s 514us/step - loss: 2.2895 - accuracy: 0.1194\n",
      "Epoch 27/100\n",
      "25000/25000 [==============================] - 13s 506us/step - loss: 2.2849 - accuracy: 0.1186\n",
      "Epoch 28/100\n",
      "25000/25000 [==============================] - 13s 507us/step - loss: 2.2823 - accuracy: 0.1218\n",
      "Epoch 29/100\n",
      "25000/25000 [==============================] - 15s 587us/step - loss: 2.3015 - accuracy: 0.1038\n",
      "Epoch 30/100\n",
      "25000/25000 [==============================] - 15s 593us/step - loss: 2.3017 - accuracy: 0.1018\n",
      "Epoch 31/100\n",
      "25000/25000 [==============================] - 14s 565us/step - loss: 2.3014 - accuracy: 0.1029\n",
      "Epoch 32/100\n",
      "25000/25000 [==============================] - 13s 507us/step - loss: 2.3013 - accuracy: 0.1035\n",
      "Epoch 33/100\n",
      "25000/25000 [==============================] - 13s 515us/step - loss: 2.3014 - accuracy: 0.1039\n",
      "Epoch 34/100\n",
      "25000/25000 [==============================] - 16s 648us/step - loss: 2.3012 - accuracy: 0.1049\n",
      "Epoch 35/100\n",
      "25000/25000 [==============================] - 17s 663us/step - loss: 2.3014 - accuracy: 0.1048\n",
      "Epoch 36/100\n",
      "25000/25000 [==============================] - 14s 576us/step - loss: 2.3008 - accuracy: 0.1052\n",
      "Epoch 37/100\n",
      "25000/25000 [==============================] - 13s 535us/step - loss: 2.3003 - accuracy: 0.1056\n",
      "Epoch 38/100\n",
      "25000/25000 [==============================] - 13s 535us/step - loss: 2.2887 - accuracy: 0.1157\n",
      "Epoch 39/100\n",
      "25000/25000 [==============================] - 13s 535us/step - loss: 2.2777 - accuracy: 0.1224\n",
      "Epoch 40/100\n",
      "25000/25000 [==============================] - 13s 534us/step - loss: 2.2757 - accuracy: 0.1250\n",
      "Epoch 41/100\n",
      "25000/25000 [==============================] - 13s 534us/step - loss: 2.2765 - accuracy: 0.1228\n",
      "Epoch 42/100\n",
      "25000/25000 [==============================] - 13s 535us/step - loss: 2.2747 - accuracy: 0.1226\n",
      "Epoch 43/100\n",
      "25000/25000 [==============================] - 14s 542us/step - loss: 2.2775 - accuracy: 0.1205\n",
      "Epoch 44/100\n",
      "25000/25000 [==============================] - 13s 534us/step - loss: 2.2752 - accuracy: 0.1243\n",
      "Epoch 45/100\n",
      "25000/25000 [==============================] - 13s 534us/step - loss: 2.3001 - accuracy: 0.1068\n",
      "Epoch 46/100\n",
      "25000/25000 [==============================] - 13s 536us/step - loss: 2.2989 - accuracy: 0.1084\n",
      "Epoch 47/100\n",
      "25000/25000 [==============================] - 13s 535us/step - loss: 2.2916 - accuracy: 0.1138\n",
      "Epoch 48/100\n",
      "25000/25000 [==============================] - 13s 534us/step - loss: 2.2605 - accuracy: 0.1361\n",
      "Epoch 49/100\n",
      "25000/25000 [==============================] - 15s 581us/step - loss: 2.2683 - accuracy: 0.1297\n",
      "Epoch 50/100\n",
      "25000/25000 [==============================] - 17s 673us/step - loss: 2.2878 - accuracy: 0.1099\n",
      "Epoch 51/100\n",
      "25000/25000 [==============================] - 15s 583us/step - loss: 2.2517 - accuracy: 0.1358\n",
      "Epoch 52/100\n",
      "25000/25000 [==============================] - 17s 666us/step - loss: 2.2410 - accuracy: 0.1484\n",
      "Epoch 53/100\n",
      "25000/25000 [==============================] - 16s 625us/step - loss: 2.2549 - accuracy: 0.1368\n",
      "Epoch 54/100\n",
      "25000/25000 [==============================] - 15s 600us/step - loss: 2.2434 - accuracy: 0.1455\n",
      "Epoch 55/100\n",
      "25000/25000 [==============================] - 15s 596us/step - loss: 2.2872 - accuracy: 0.1223\n",
      "Epoch 56/100\n",
      "25000/25000 [==============================] - 14s 549us/step - loss: 2.2973 - accuracy: 0.1104\n",
      "Epoch 57/100\n",
      "25000/25000 [==============================] - 14s 549us/step - loss: 2.3028 - accuracy: 0.1036\n",
      "Epoch 58/100\n",
      "25000/25000 [==============================] - 14s 548us/step - loss: 2.2975 - accuracy: 0.1104\n",
      "Epoch 59/100\n",
      "25000/25000 [==============================] - 15s 602us/step - loss: 2.2986 - accuracy: 0.1106\n",
      "Epoch 60/100\n",
      "25000/25000 [==============================] - 15s 601us/step - loss: 2.3018 - accuracy: 0.1029\n",
      "Epoch 61/100\n",
      "25000/25000 [==============================] - 15s 588us/step - loss: 2.3017 - accuracy: 0.1031\n",
      "Epoch 62/100\n",
      "25000/25000 [==============================] - 15s 608us/step - loss: 2.3019 - accuracy: 0.1038\n",
      "Epoch 63/100\n",
      "25000/25000 [==============================] - 17s 666us/step - loss: 2.3012 - accuracy: 0.1025\n",
      "Epoch 64/100\n",
      "25000/25000 [==============================] - 15s 589us/step - loss: 2.3009 - accuracy: 0.1039\n",
      "Epoch 65/100\n",
      "25000/25000 [==============================] - 15s 592us/step - loss: 2.3016 - accuracy: 0.1054\n",
      "Epoch 66/100\n",
      "25000/25000 [==============================] - 14s 568us/step - loss: 2.3004 - accuracy: 0.1032\n",
      "Epoch 67/100\n",
      "25000/25000 [==============================] - 15s 618us/step - loss: 2.3005 - accuracy: 0.1052\n",
      "Epoch 68/100\n",
      "25000/25000 [==============================] - 13s 530us/step - loss: 2.2990 - accuracy: 0.1059\n",
      "Epoch 69/100\n",
      "25000/25000 [==============================] - 13s 529us/step - loss: 2.2767 - accuracy: 0.1204\n",
      "Epoch 70/100\n",
      "25000/25000 [==============================] - 13s 529us/step - loss: 2.2335 - accuracy: 0.1482\n",
      "Epoch 71/100\n",
      "25000/25000 [==============================] - 13s 531us/step - loss: 2.2469 - accuracy: 0.1454\n",
      "Epoch 72/100\n",
      "25000/25000 [==============================] - 13s 530us/step - loss: 2.2662 - accuracy: 0.1249\n",
      "Epoch 73/100\n",
      "25000/25000 [==============================] - 13s 529us/step - loss: 2.2651 - accuracy: 0.1278\n",
      "Epoch 74/100\n",
      "25000/25000 [==============================] - 13s 529us/step - loss: 2.2994 - accuracy: 0.1050\n",
      "Epoch 75/100\n",
      "25000/25000 [==============================] - 13s 529us/step - loss: 2.2883 - accuracy: 0.1156\n",
      "Epoch 76/100\n",
      "25000/25000 [==============================] - 13s 532us/step - loss: 2.2089 - accuracy: 0.1648\n",
      "Epoch 77/100\n",
      "25000/25000 [==============================] - 13s 529us/step - loss: 2.2183 - accuracy: 0.1628\n",
      "Epoch 78/100\n",
      "25000/25000 [==============================] - 13s 529us/step - loss: 2.1922 - accuracy: 0.1752\n",
      "Epoch 79/100\n",
      "25000/25000 [==============================] - 13s 535us/step - loss: 2.2246 - accuracy: 0.1550\n",
      "Epoch 80/100\n",
      "25000/25000 [==============================] - 13s 531us/step - loss: 2.1888 - accuracy: 0.1743\n",
      "Epoch 81/100\n",
      "25000/25000 [==============================] - 13s 530us/step - loss: 2.1729 - accuracy: 0.1842\n",
      "Epoch 82/100\n",
      "25000/25000 [==============================] - 13s 530us/step - loss: 2.1856 - accuracy: 0.1795\n",
      "Epoch 83/100\n",
      "25000/25000 [==============================] - 13s 531us/step - loss: 2.1562 - accuracy: 0.1932\n",
      "Epoch 84/100\n",
      "25000/25000 [==============================] - 13s 531us/step - loss: 2.1520 - accuracy: 0.1982\n",
      "Epoch 85/100\n",
      "25000/25000 [==============================] - 13s 534us/step - loss: 2.1465 - accuracy: 0.1994\n",
      "Epoch 86/100\n",
      "25000/25000 [==============================] - 13s 537us/step - loss: 2.1300 - accuracy: 0.2111\n",
      "Epoch 87/100\n",
      "25000/25000 [==============================] - 13s 527us/step - loss: 2.1160 - accuracy: 0.2149\n",
      "Epoch 88/100\n",
      "25000/25000 [==============================] - 13s 506us/step - loss: 2.1210 - accuracy: 0.2177\n",
      "Epoch 89/100\n",
      "25000/25000 [==============================] - 13s 513us/step - loss: 2.1102 - accuracy: 0.2174\n",
      "Epoch 90/100\n",
      "25000/25000 [==============================] - 13s 506us/step - loss: 2.0882 - accuracy: 0.2316\n",
      "Epoch 91/100\n",
      "25000/25000 [==============================] - 13s 507us/step - loss: 2.0840 - accuracy: 0.2356\n",
      "Epoch 92/100\n",
      "25000/25000 [==============================] - 13s 507us/step - loss: 2.0740 - accuracy: 0.2376\n",
      "Epoch 93/100\n",
      "25000/25000 [==============================] - 13s 507us/step - loss: 2.0575 - accuracy: 0.2456\n",
      "Epoch 94/100\n",
      "25000/25000 [==============================] - 13s 508us/step - loss: 2.0510 - accuracy: 0.2486\n",
      "Epoch 95/100\n",
      "25000/25000 [==============================] - 13s 509us/step - loss: 2.0638 - accuracy: 0.2450\n",
      "Epoch 96/100\n",
      "25000/25000 [==============================] - 13s 508us/step - loss: 2.0283 - accuracy: 0.2639\n",
      "Epoch 97/100\n",
      "25000/25000 [==============================] - 13s 510us/step - loss: 2.0321 - accuracy: 0.2583\n",
      "Epoch 98/100\n",
      "25000/25000 [==============================] - 13s 509us/step - loss: 2.0214 - accuracy: 0.2623\n",
      "Epoch 99/100\n",
      "25000/25000 [==============================] - 13s 508us/step - loss: 2.0122 - accuracy: 0.2680\n",
      "Epoch 100/100\n",
      "25000/25000 [==============================] - 13s 507us/step - loss: 2.0016 - accuracy: 0.2728\n"
     ]
    }
   ],
   "source": [
    "# モデルの学習\n",
    "result = model.fit(\n",
    "    X_train,\n",
    "    y_train,\n",
    "    batch_size=256,\n",
    "    epochs=100,\n",
    ")"
   ]
  },
  {
   "cell_type": "code",
   "execution_count": null,
   "metadata": {},
   "outputs": [],
   "source": [
    "# モデル結果の出力\n",
    "score = model.evaluate(X_test, y_test, verbose=0)\n",
    "print(score)"
   ]
  }
 ],
 "metadata": {
  "kernelspec": {
   "display_name": "Python 3",
   "language": "python",
   "name": "python3"
  },
  "language_info": {
   "codemirror_mode": {
    "name": "ipython",
    "version": 3
   },
   "file_extension": ".py",
   "mimetype": "text/x-python",
   "name": "python",
   "nbconvert_exporter": "python",
   "pygments_lexer": "ipython3",
   "version": "3.7.1"
  }
 },
 "nbformat": 4,
 "nbformat_minor": 2
}
